{
  "nbformat": 4,
  "nbformat_minor": 0,
  "metadata": {
    "colab": {
      "name": "mnist_nn.ipynb",
      "provenance": [],
      "toc_visible": true,
      "authorship_tag": "ABX9TyMt31lg4zoEgXAk2Qg7iOuv",
      "include_colab_link": true
    },
    "kernelspec": {
      "name": "python3",
      "display_name": "Python 3"
    },
    "language_info": {
      "name": "python"
    },
    "accelerator": "GPU"
  },
  "cells": [
    {
      "cell_type": "markdown",
      "metadata": {
        "id": "view-in-github",
        "colab_type": "text"
      },
      "source": [
        "<a href=\"https://colab.research.google.com/github/Yudai-0310/learn_nn/blob/main/mnist_nn.ipynb\" target=\"_parent\"><img src=\"https://colab.research.google.com/assets/colab-badge.svg\" alt=\"Open In Colab\"/></a>"
      ]
    },
    {
      "cell_type": "markdown",
      "metadata": {
        "id": "uXXmOT50sf__"
      },
      "source": [
        "# MNISTをNNとCNNで解く\n",
        "- ref\n",
        "    - [MNISTをKerasでやってみる（普通のNNとCNN）](https://shirakonotempura.hatenablog.com/entry/2018/12/25/030242)"
      ]
    },
    {
      "cell_type": "markdown",
      "source": [
        "- load packages\n",
        "    - Kerasでやってみる"
      ],
      "metadata": {
        "id": "4dWV8zPrLOBU"
      }
    },
    {
      "cell_type": "code",
      "metadata": {
        "id": "kuGjbLzuqHHS"
      },
      "source": [
        "from matplotlib import pyplot as plt\n",
        "from sklearn.model_selection import train_test_split\n",
        "from tensorflow import keras\n",
        "from keras.datasets import mnist\n",
        "from keras.models import Sequential\n",
        "from keras.layers import Dense, Dropout, Flatten, Conv2D, MaxPooling2D\n",
        "\n",
        "from tensorflow.keras import utils as np_utils"
      ],
      "execution_count": null,
      "outputs": []
    },
    {
      "cell_type": "markdown",
      "source": [
        "- load data\n",
        "    - MNISTのデータをload\n",
        "        - 10クラス分類"
      ],
      "metadata": {
        "id": "0qpy6K5pNhEy"
      }
    },
    {
      "cell_type": "code",
      "metadata": {
        "id": "ltlQQk6Vq2IG",
        "colab": {
          "base_uri": "https://localhost:8080/"
        },
        "outputId": "54a925cf-1a18-43ce-f580-2784199fa398"
      },
      "source": [
        "(x_train, y_train), (x_test, y_test) = mnist.load_data()"
      ],
      "execution_count": null,
      "outputs": [
        {
          "output_type": "stream",
          "name": "stdout",
          "text": [
            "Downloading data from https://storage.googleapis.com/tensorflow/tf-keras-datasets/mnist.npz\n",
            "11493376/11490434 [==============================] - 0s 0us/step\n",
            "11501568/11490434 [==============================] - 0s 0us/step\n"
          ]
        }
      ]
    },
    {
      "cell_type": "markdown",
      "source": [
        "- trainとtestの形状を確認\n",
        "    - trainデータは28 * 28の画像が60000枚\n",
        "    - testデータは28 * 28の画像が10000枚"
      ],
      "metadata": {
        "id": "Gu7kEpA6LMBP"
      }
    },
    {
      "cell_type": "code",
      "metadata": {
        "colab": {
          "base_uri": "https://localhost:8080/"
        },
        "id": "zm7UfFqSs9In",
        "outputId": "3ec13e67-0a63-4499-adff-c24354a1249f"
      },
      "source": [
        "print(\"x_train\")\n",
        "print(x_train.shape)\n",
        "print(\"y_train\")\n",
        "print(y_train.shape)\n",
        "print(\"x_test\")\n",
        "print(x_test.shape)\n",
        "print(\"y_test\")\n",
        "print(y_test.shape)"
      ],
      "execution_count": null,
      "outputs": [
        {
          "output_type": "stream",
          "name": "stdout",
          "text": [
            "x_train\n",
            "(60000, 28, 28)\n",
            "y_train\n",
            "(60000,)\n",
            "x_test\n",
            "(10000, 28, 28)\n",
            "y_test\n",
            "(10000,)\n"
          ]
        }
      ]
    },
    {
      "cell_type": "markdown",
      "source": [
        "- 試しに1枚見てみる"
      ],
      "metadata": {
        "id": "qU-tTAibNpNN"
      }
    },
    {
      "cell_type": "code",
      "source": [
        "x_train[0].shape"
      ],
      "metadata": {
        "colab": {
          "base_uri": "https://localhost:8080/"
        },
        "id": "9pMsHg4VOy7k",
        "outputId": "b890dc5a-c51f-4fae-990b-ccd3e4dbf278"
      },
      "execution_count": null,
      "outputs": [
        {
          "output_type": "execute_result",
          "data": {
            "text/plain": [
              "(28, 28)"
            ]
          },
          "metadata": {},
          "execution_count": 4
        }
      ]
    },
    {
      "cell_type": "code",
      "metadata": {
        "colab": {
          "base_uri": "https://localhost:8080/",
          "height": 265
        },
        "id": "wEy3izpEq8Z4",
        "outputId": "9e97368b-cb78-4e8b-d227-0e351176cd86"
      },
      "source": [
        "plt.imshow(x_train[0], cmap='Greys')\n",
        "plt.show()"
      ],
      "execution_count": null,
      "outputs": [
        {
          "output_type": "display_data",
          "data": {
            "image/png": "[encoded data removed]",
            "text/plain": [
              "<Figure size 432x288 with 1 Axes>"
            ]
          },
          "metadata": {
            "needs_background": "light"
          }
        }
      ]
    },
    {
      "cell_type": "markdown",
      "source": [
        "- reshape\n",
        "    - (画像の枚数, 縦の長さ, 横の長さ)の3次元のデータを(画像の枚数, 縦の長さ, 横の長さ, チャネル数)の4次元にreshape\n",
        "        - MNISTの画像は、上の画像を見てもわかるが白黒画像なのでチャネル数は「1」\n",
        "    - ピクセル値を正規化\n",
        "        - ピクセル値は0（完全な白）から255（完全な黒）までの値をとるので、255で割ることで0~1に収まる数値に正規化できる\n",
        "    - NNでは2次元の画像を1次元化してから使うので1次元化しておく（縦に伸ばして縦ベクトルにする感じ）\n",
        "        - 28 * 28 = 784\n",
        "        - CNNでは2次元のまま扱える\n",
        "    - 目的変数はone-hotベクトルにしておく"
      ],
      "metadata": {
        "id": "Ybx03SKaNuen"
      }
    },
    {
      "cell_type": "code",
      "metadata": {
        "id": "1eZudBqYsAkE"
      },
      "source": [
        "# 3次元のデータを4次元にreshape\n",
        "x_train = x_train.reshape(x_train.shape[0], 28, 28, 1)\n",
        "x_test = x_test.reshape(x_test.shape[0], 28, 28, 1)\n",
        "\n",
        "# ピクセル値を正規化\n",
        "x_train = x_train.astype('float32')\n",
        "x_test = x_test.astype('float32')\n",
        "x_train /= 255\n",
        "x_test /= 255\n",
        "\n",
        "# NNに使う用に、1次元化\n",
        "x_train_nn = x_train.reshape(x_train.shape[0], 784)\n",
        "x_test_nn = x_test.reshape(x_test.shape[0], 784)\n",
        "\n",
        "# 目的変数はone-hotベクトルに変換\n",
        "y_train = np_utils.to_categorical(y_train, 10)\n",
        "y_test = np_utils.to_categorical(y_test, 10)"
      ],
      "execution_count": null,
      "outputs": []
    },
    {
      "cell_type": "code",
      "metadata": {
        "colab": {
          "base_uri": "https://localhost:8080/"
        },
        "id": "DaqGxLxbsYSX",
        "outputId": "4425fc1d-9adf-47ec-8395-83868b646cad"
      },
      "source": [
        "print(\"x_train\")\n",
        "print(x_train.shape)\n",
        "print(\"y_train\")\n",
        "print(y_train.shape)\n",
        "print(\"x_train_nn\")\n",
        "print(x_train_nn.shape)\n",
        "print(\"x_test\")\n",
        "print(x_test.shape)\n",
        "print(\"y_test\")\n",
        "print(y_test.shape)"
      ],
      "execution_count": null,
      "outputs": [
        {
          "output_type": "stream",
          "name": "stdout",
          "text": [
            "x_train\n",
            "(60000, 28, 28, 1)\n",
            "y_train\n",
            "(60000, 10)\n",
            "x_train_nn\n",
            "(60000, 784)\n",
            "x_test\n",
            "(10000, 28, 28, 1)\n",
            "y_test\n",
            "(10000, 10)\n"
          ]
        }
      ]
    },
    {
      "cell_type": "markdown",
      "source": [
        "## NN"
      ],
      "metadata": {
        "id": "Jn9RfmzphqB0"
      }
    },
    {
      "cell_type": "markdown",
      "metadata": {
        "id": "I4QhBR8Kta7H"
      },
      "source": [
        "- NNのモデルを組む\n",
        "    - 多層パーセプトロン（といっても2層だが）\n",
        "        - 全結合層1層目:ニューロン数は50\n",
        "        - 全結合層2層目:ニューロン数は50\n",
        "        - 出力層:ニューロン数は10（10クラス分類だから）\n",
        "    - 学習に関する設定\n",
        "        - 損失関数：交差エントロピー（MSEでもいいけど、交差エントロピーの方が確率的勾配降下法の際に計算が楽っぽい）\n",
        "        - 最適化手法：Adam\n",
        "        - 評価関数：正解率"
      ]
    },
    {
      "cell_type": "code",
      "metadata": {
        "id": "aEhZZf_zs7JX"
      },
      "source": [
        "model_nn = Sequential()\n",
        "model_nn.add(Dense(50, activation=\"relu\", input_dim=784)) # ニューロン数は50\n",
        "model_nn.add(Dropout(0.5))\n",
        "model_nn.add(Dense(50, activation=\"relu\")) # ニューロン数は50\n",
        "model_nn.add(Dropout(0.5))\n",
        "model_nn.add(Dense(10, activation='softmax')) # ニューロン数は10"
      ],
      "execution_count": null,
      "outputs": []
    },
    {
      "cell_type": "code",
      "metadata": {
        "id": "QTXLVGHktg3Z"
      },
      "source": [
        "model_nn.compile(\n",
        "    loss=\"categorical_crossentropy\", # 損失関数（目的関数）\n",
        "    optimizer=\"Adam\", # 最適化手法\n",
        "    metrics=['accuracy'] # 評価関数（学習には関係ない）\n",
        ")"
      ],
      "execution_count": null,
      "outputs": []
    },
    {
      "cell_type": "markdown",
      "source": [
        "- モデルの構造を確認\n",
        "    - パラメータの数は、合計で 39250個 + 2550個 + 510個 = 42310個\n",
        "        - 1層目は、 ( 784 + 1 ) 個のニューロンと50個のニューロンの全結合だから、 ( 784 + 1 ) * 50 = 39250個\n",
        "            - +1はバイアスのニューロン\n",
        "        - 2層目は、 ( 50 + 1 ) 個のニューロンと50個のニューロンの全結合だから、 ( 50 + 1 ) * 50 = 2550個\n",
        "            - +1はバイアスのニューロン\n",
        "        - 出力層は、 ( 50 + 1 ) 個のニューロンと10個のニューロンの全結合だから、 ( 50 + 1 ) * 10 = 510個\n",
        "            - +1はバイアスのニューロン"
      ],
      "metadata": {
        "id": "RV1D3gxnXYwt"
      }
    },
    {
      "cell_type": "code",
      "metadata": {
        "colab": {
          "base_uri": "https://localhost:8080/"
        },
        "id": "2MVt6dL8tinR",
        "outputId": "253c3dc4-241a-4e57-d325-d2b3187cec8c"
      },
      "source": [
        "print(model_nn.summary())"
      ],
      "execution_count": null,
      "outputs": [
        {
          "output_type": "stream",
          "name": "stdout",
          "text": [
            "Model: \"sequential\"\n",
            "_________________________________________________________________\n",
            " Layer (type)                Output Shape              Param #   \n",
            "=================================================================\n",
            " dense (Dense)               (None, 50)                39250     \n",
            "                                                                 \n",
            " dropout (Dropout)           (None, 50)                0         \n",
            "                                                                 \n",
            " dense_1 (Dense)             (None, 50)                2550      \n",
            "                                                                 \n",
            " dropout_1 (Dropout)         (None, 50)                0         \n",
            "                                                                 \n",
            " dense_2 (Dense)             (None, 10)                510       \n",
            "                                                                 \n",
            "=================================================================\n",
            "Total params: 42,310\n",
            "Trainable params: 42,310\n",
            "Non-trainable params: 0\n",
            "_________________________________________________________________\n",
            "None\n"
          ]
        }
      ]
    },
    {
      "cell_type": "markdown",
      "source": [
        "- 学習（42310個のパラメータの推定）\n",
        "    - エポック数は100\n",
        "    - バッチサイズは128\n",
        "    - trainを train:valid=0.8:0.2 に分割"
      ],
      "metadata": {
        "id": "HVsRZ8SqZRia"
      }
    },
    {
      "cell_type": "code",
      "metadata": {
        "colab": {
          "base_uri": "https://localhost:8080/"
        },
        "id": "Lzvu6Ga-t1xW",
        "outputId": "238a4a18-b3be-4876-ae73-bf5051c96049"
      },
      "source": [
        "%%time\n",
        "\n",
        "epochs = 100\n",
        "\n",
        "model_nn_fit = model_nn.fit(x_train_nn, y_train,\n",
        "                    batch_size=128,\n",
        "                    epochs=epochs,\n",
        "                    verbose=1,\n",
        "                    validation_split=0.2)"
      ],
      "execution_count": null,
      "outputs": [
        {
          "output_type": "stream",
          "name": "stdout",
          "text": [
            "Epoch 1/100\n",
            "375/375 [==============================] - 4s 5ms/step - loss: 1.1396 - accuracy: 0.6167 - val_loss: 0.3606 - val_accuracy: 0.9033\n",
            "Epoch 2/100\n",
            "375/375 [==============================] - 2s 5ms/step - loss: 0.6287 - accuracy: 0.8111 - val_loss: 0.2735 - val_accuracy: 0.9242\n",
            "Epoch 3/100\n",
            "375/375 [==============================] - 2s 4ms/step - loss: 0.5335 - accuracy: 0.8421 - val_loss: 0.2408 - val_accuracy: 0.9332\n",
            "Epoch 4/100\n",
            "375/375 [==============================] - 2s 4ms/step - loss: 0.4861 - accuracy: 0.8574 - val_loss: 0.2270 - val_accuracy: 0.9351\n",
            "Epoch 5/100\n",
            "375/375 [==============================] - 2s 4ms/step - loss: 0.4578 - accuracy: 0.8671 - val_loss: 0.2193 - val_accuracy: 0.9402\n",
            "Epoch 6/100\n",
            "375/375 [==============================] - 2s 5ms/step - loss: 0.4350 - accuracy: 0.8728 - val_loss: 0.2070 - val_accuracy: 0.9435\n",
            "Epoch 7/100\n",
            "375/375 [==============================] - 2s 5ms/step - loss: 0.4196 - accuracy: 0.8797 - val_loss: 0.1943 - val_accuracy: 0.9459\n",
            "Epoch 8/100\n",
            "375/375 [==============================] - 2s 4ms/step - loss: 0.4069 - accuracy: 0.8809 - val_loss: 0.1864 - val_accuracy: 0.9498\n",
            "Epoch 9/100\n",
            "375/375 [==============================] - 2s 4ms/step - loss: 0.3982 - accuracy: 0.8830 - val_loss: 0.1841 - val_accuracy: 0.9495\n",
            "Epoch 10/100\n",
            "375/375 [==============================] - 2s 4ms/step - loss: 0.3848 - accuracy: 0.8870 - val_loss: 0.1854 - val_accuracy: 0.9507\n",
            "Epoch 11/100\n",
            "375/375 [==============================] - 2s 4ms/step - loss: 0.3793 - accuracy: 0.8892 - val_loss: 0.1809 - val_accuracy: 0.9514\n",
            "Epoch 12/100\n",
            "375/375 [==============================] - 2s 5ms/step - loss: 0.3750 - accuracy: 0.8920 - val_loss: 0.1754 - val_accuracy: 0.9528\n",
            "Epoch 13/100\n",
            "375/375 [==============================] - 2s 4ms/step - loss: 0.3635 - accuracy: 0.8939 - val_loss: 0.1752 - val_accuracy: 0.9535\n",
            "Epoch 14/100\n",
            "375/375 [==============================] - 2s 5ms/step - loss: 0.3593 - accuracy: 0.8970 - val_loss: 0.1741 - val_accuracy: 0.9535\n",
            "Epoch 15/100\n",
            "375/375 [==============================] - 2s 4ms/step - loss: 0.3501 - accuracy: 0.8974 - val_loss: 0.1741 - val_accuracy: 0.9532\n",
            "Epoch 16/100\n",
            "375/375 [==============================] - 2s 5ms/step - loss: 0.3525 - accuracy: 0.8968 - val_loss: 0.1660 - val_accuracy: 0.9566\n",
            "Epoch 17/100\n",
            "375/375 [==============================] - 2s 4ms/step - loss: 0.3448 - accuracy: 0.8994 - val_loss: 0.1681 - val_accuracy: 0.9563\n",
            "Epoch 18/100\n",
            "375/375 [==============================] - 2s 5ms/step - loss: 0.3418 - accuracy: 0.8997 - val_loss: 0.1651 - val_accuracy: 0.9549\n",
            "Epoch 19/100\n",
            "375/375 [==============================] - 2s 4ms/step - loss: 0.3390 - accuracy: 0.8979 - val_loss: 0.1720 - val_accuracy: 0.9544\n",
            "Epoch 20/100\n",
            "375/375 [==============================] - 2s 4ms/step - loss: 0.3389 - accuracy: 0.9000 - val_loss: 0.1633 - val_accuracy: 0.9555\n",
            "Epoch 21/100\n",
            "375/375 [==============================] - 2s 5ms/step - loss: 0.3321 - accuracy: 0.9025 - val_loss: 0.1654 - val_accuracy: 0.9564\n",
            "Epoch 22/100\n",
            "375/375 [==============================] - 2s 4ms/step - loss: 0.3266 - accuracy: 0.9040 - val_loss: 0.1589 - val_accuracy: 0.9583\n",
            "Epoch 23/100\n",
            "375/375 [==============================] - 2s 4ms/step - loss: 0.3275 - accuracy: 0.9014 - val_loss: 0.1612 - val_accuracy: 0.9570\n",
            "Epoch 24/100\n",
            "375/375 [==============================] - 2s 4ms/step - loss: 0.3246 - accuracy: 0.9040 - val_loss: 0.1637 - val_accuracy: 0.9575\n",
            "Epoch 25/100\n",
            "375/375 [==============================] - 2s 4ms/step - loss: 0.3212 - accuracy: 0.9050 - val_loss: 0.1572 - val_accuracy: 0.9585\n",
            "Epoch 26/100\n",
            "375/375 [==============================] - 2s 4ms/step - loss: 0.3234 - accuracy: 0.9033 - val_loss: 0.1593 - val_accuracy: 0.9588\n",
            "Epoch 27/100\n",
            "375/375 [==============================] - 2s 4ms/step - loss: 0.3195 - accuracy: 0.9036 - val_loss: 0.1539 - val_accuracy: 0.9592\n",
            "Epoch 28/100\n",
            "375/375 [==============================] - 2s 4ms/step - loss: 0.3192 - accuracy: 0.9059 - val_loss: 0.1594 - val_accuracy: 0.9572\n",
            "Epoch 29/100\n",
            "375/375 [==============================] - 2s 5ms/step - loss: 0.3221 - accuracy: 0.9023 - val_loss: 0.1608 - val_accuracy: 0.9575\n",
            "Epoch 30/100\n",
            "375/375 [==============================] - 2s 4ms/step - loss: 0.3164 - accuracy: 0.9051 - val_loss: 0.1579 - val_accuracy: 0.9587\n",
            "Epoch 31/100\n",
            "375/375 [==============================] - 2s 4ms/step - loss: 0.3130 - accuracy: 0.9065 - val_loss: 0.1626 - val_accuracy: 0.9592\n",
            "Epoch 32/100\n",
            "375/375 [==============================] - 2s 4ms/step - loss: 0.3129 - accuracy: 0.9078 - val_loss: 0.1633 - val_accuracy: 0.9570\n",
            "Epoch 33/100\n",
            "375/375 [==============================] - 2s 4ms/step - loss: 0.3114 - accuracy: 0.9055 - val_loss: 0.1619 - val_accuracy: 0.9582\n",
            "Epoch 34/100\n",
            "375/375 [==============================] - 2s 5ms/step - loss: 0.3144 - accuracy: 0.9060 - val_loss: 0.1544 - val_accuracy: 0.9594\n",
            "Epoch 35/100\n",
            "375/375 [==============================] - 2s 4ms/step - loss: 0.3096 - accuracy: 0.9078 - val_loss: 0.1570 - val_accuracy: 0.9615\n",
            "Epoch 36/100\n",
            "375/375 [==============================] - 2s 4ms/step - loss: 0.3030 - accuracy: 0.9086 - val_loss: 0.1636 - val_accuracy: 0.9581\n",
            "Epoch 37/100\n",
            "375/375 [==============================] - 2s 4ms/step - loss: 0.3056 - accuracy: 0.9098 - val_loss: 0.1542 - val_accuracy: 0.9597\n",
            "Epoch 38/100\n",
            "375/375 [==============================] - 2s 5ms/step - loss: 0.3063 - accuracy: 0.9091 - val_loss: 0.1601 - val_accuracy: 0.9588\n",
            "Epoch 39/100\n",
            "375/375 [==============================] - 2s 4ms/step - loss: 0.3043 - accuracy: 0.9092 - val_loss: 0.1578 - val_accuracy: 0.9586\n",
            "Epoch 40/100\n",
            "375/375 [==============================] - 2s 4ms/step - loss: 0.3002 - accuracy: 0.9099 - val_loss: 0.1691 - val_accuracy: 0.9579\n",
            "Epoch 41/100\n",
            "375/375 [==============================] - 2s 4ms/step - loss: 0.3007 - accuracy: 0.9088 - val_loss: 0.1619 - val_accuracy: 0.9573\n",
            "Epoch 42/100\n",
            "375/375 [==============================] - 2s 4ms/step - loss: 0.3024 - accuracy: 0.9101 - val_loss: 0.1572 - val_accuracy: 0.9599\n",
            "Epoch 43/100\n",
            "375/375 [==============================] - 2s 4ms/step - loss: 0.2923 - accuracy: 0.9115 - val_loss: 0.1576 - val_accuracy: 0.9596\n",
            "Epoch 44/100\n",
            "375/375 [==============================] - 2s 5ms/step - loss: 0.2913 - accuracy: 0.9124 - val_loss: 0.1619 - val_accuracy: 0.9583\n",
            "Epoch 45/100\n",
            "375/375 [==============================] - 2s 5ms/step - loss: 0.2926 - accuracy: 0.9111 - val_loss: 0.1565 - val_accuracy: 0.9582\n",
            "Epoch 46/100\n",
            "375/375 [==============================] - 2s 4ms/step - loss: 0.2970 - accuracy: 0.9117 - val_loss: 0.1529 - val_accuracy: 0.9612\n",
            "Epoch 47/100\n",
            "375/375 [==============================] - 2s 4ms/step - loss: 0.2926 - accuracy: 0.9112 - val_loss: 0.1639 - val_accuracy: 0.9578\n",
            "Epoch 48/100\n",
            "375/375 [==============================] - 2s 5ms/step - loss: 0.2924 - accuracy: 0.9110 - val_loss: 0.1597 - val_accuracy: 0.9587\n",
            "Epoch 49/100\n",
            "375/375 [==============================] - 2s 5ms/step - loss: 0.2893 - accuracy: 0.9117 - val_loss: 0.1623 - val_accuracy: 0.9590\n",
            "Epoch 50/100\n",
            "375/375 [==============================] - 2s 4ms/step - loss: 0.2940 - accuracy: 0.9122 - val_loss: 0.1577 - val_accuracy: 0.9592\n",
            "Epoch 51/100\n",
            "375/375 [==============================] - 2s 4ms/step - loss: 0.2896 - accuracy: 0.9137 - val_loss: 0.1629 - val_accuracy: 0.9574\n",
            "Epoch 52/100\n",
            "375/375 [==============================] - 2s 4ms/step - loss: 0.2854 - accuracy: 0.9141 - val_loss: 0.1613 - val_accuracy: 0.9580\n",
            "Epoch 53/100\n",
            "375/375 [==============================] - 2s 5ms/step - loss: 0.2879 - accuracy: 0.9127 - val_loss: 0.1619 - val_accuracy: 0.9600\n",
            "Epoch 54/100\n",
            "375/375 [==============================] - 2s 4ms/step - loss: 0.2842 - accuracy: 0.9138 - val_loss: 0.1620 - val_accuracy: 0.9589\n",
            "Epoch 55/100\n",
            "375/375 [==============================] - 2s 4ms/step - loss: 0.2877 - accuracy: 0.9133 - val_loss: 0.1634 - val_accuracy: 0.9593\n",
            "Epoch 56/100\n",
            "375/375 [==============================] - 2s 5ms/step - loss: 0.2870 - accuracy: 0.9132 - val_loss: 0.1612 - val_accuracy: 0.9594\n",
            "Epoch 57/100\n",
            "375/375 [==============================] - 2s 5ms/step - loss: 0.2858 - accuracy: 0.9136 - val_loss: 0.1576 - val_accuracy: 0.9604\n",
            "Epoch 58/100\n",
            "375/375 [==============================] - 2s 5ms/step - loss: 0.2835 - accuracy: 0.9139 - val_loss: 0.1656 - val_accuracy: 0.9590\n",
            "Epoch 59/100\n",
            "375/375 [==============================] - 2s 5ms/step - loss: 0.2809 - accuracy: 0.9162 - val_loss: 0.1583 - val_accuracy: 0.9603\n",
            "Epoch 60/100\n",
            "375/375 [==============================] - 2s 5ms/step - loss: 0.2813 - accuracy: 0.9152 - val_loss: 0.1617 - val_accuracy: 0.9594\n",
            "Epoch 61/100\n",
            "375/375 [==============================] - 2s 5ms/step - loss: 0.2872 - accuracy: 0.9128 - val_loss: 0.1599 - val_accuracy: 0.9605\n",
            "Epoch 62/100\n",
            "375/375 [==============================] - 2s 4ms/step - loss: 0.2794 - accuracy: 0.9148 - val_loss: 0.1612 - val_accuracy: 0.9597\n",
            "Epoch 63/100\n",
            "375/375 [==============================] - 2s 5ms/step - loss: 0.2843 - accuracy: 0.9130 - val_loss: 0.1623 - val_accuracy: 0.9596\n",
            "Epoch 64/100\n",
            "375/375 [==============================] - 2s 4ms/step - loss: 0.2785 - accuracy: 0.9160 - val_loss: 0.1617 - val_accuracy: 0.9607\n",
            "Epoch 65/100\n",
            "375/375 [==============================] - 2s 5ms/step - loss: 0.2838 - accuracy: 0.9136 - val_loss: 0.1615 - val_accuracy: 0.9610\n",
            "Epoch 66/100\n",
            "375/375 [==============================] - 2s 5ms/step - loss: 0.2848 - accuracy: 0.9150 - val_loss: 0.1595 - val_accuracy: 0.9602\n",
            "Epoch 67/100\n",
            "375/375 [==============================] - 2s 5ms/step - loss: 0.2763 - accuracy: 0.9152 - val_loss: 0.1606 - val_accuracy: 0.9600\n",
            "Epoch 68/100\n",
            "375/375 [==============================] - 2s 5ms/step - loss: 0.2737 - accuracy: 0.9168 - val_loss: 0.1652 - val_accuracy: 0.9590\n",
            "Epoch 69/100\n",
            "375/375 [==============================] - 2s 4ms/step - loss: 0.2795 - accuracy: 0.9139 - val_loss: 0.1623 - val_accuracy: 0.9602\n",
            "Epoch 70/100\n",
            "375/375 [==============================] - 2s 5ms/step - loss: 0.2744 - accuracy: 0.9167 - val_loss: 0.1648 - val_accuracy: 0.9578\n",
            "Epoch 71/100\n",
            "375/375 [==============================] - 2s 4ms/step - loss: 0.2713 - accuracy: 0.9170 - val_loss: 0.1652 - val_accuracy: 0.9594\n",
            "Epoch 72/100\n",
            "375/375 [==============================] - 2s 5ms/step - loss: 0.2787 - accuracy: 0.9153 - val_loss: 0.1618 - val_accuracy: 0.9597\n",
            "Epoch 73/100\n",
            "375/375 [==============================] - 2s 5ms/step - loss: 0.2749 - accuracy: 0.9147 - val_loss: 0.1659 - val_accuracy: 0.9607\n",
            "Epoch 74/100\n",
            "375/375 [==============================] - 2s 5ms/step - loss: 0.2751 - accuracy: 0.9166 - val_loss: 0.1683 - val_accuracy: 0.9601\n",
            "Epoch 75/100\n",
            "375/375 [==============================] - 2s 4ms/step - loss: 0.2753 - accuracy: 0.9166 - val_loss: 0.1704 - val_accuracy: 0.9604\n",
            "Epoch 76/100\n",
            "375/375 [==============================] - 2s 4ms/step - loss: 0.2783 - accuracy: 0.9144 - val_loss: 0.1597 - val_accuracy: 0.9620\n",
            "Epoch 77/100\n",
            "375/375 [==============================] - 2s 5ms/step - loss: 0.2701 - accuracy: 0.9168 - val_loss: 0.1620 - val_accuracy: 0.9618\n",
            "Epoch 78/100\n",
            "375/375 [==============================] - 2s 5ms/step - loss: 0.2701 - accuracy: 0.9178 - val_loss: 0.1642 - val_accuracy: 0.9589\n",
            "Epoch 79/100\n",
            "375/375 [==============================] - 2s 5ms/step - loss: 0.2702 - accuracy: 0.9170 - val_loss: 0.1681 - val_accuracy: 0.9597\n",
            "Epoch 80/100\n",
            "375/375 [==============================] - 2s 4ms/step - loss: 0.2723 - accuracy: 0.9172 - val_loss: 0.1757 - val_accuracy: 0.9568\n",
            "Epoch 81/100\n",
            "375/375 [==============================] - 2s 4ms/step - loss: 0.2753 - accuracy: 0.9157 - val_loss: 0.1708 - val_accuracy: 0.9582\n",
            "Epoch 82/100\n",
            "375/375 [==============================] - 2s 5ms/step - loss: 0.2715 - accuracy: 0.9180 - val_loss: 0.1638 - val_accuracy: 0.9600\n",
            "Epoch 83/100\n",
            "375/375 [==============================] - 2s 5ms/step - loss: 0.2664 - accuracy: 0.9168 - val_loss: 0.1664 - val_accuracy: 0.9596\n",
            "Epoch 84/100\n",
            "375/375 [==============================] - 2s 4ms/step - loss: 0.2645 - accuracy: 0.9209 - val_loss: 0.1705 - val_accuracy: 0.9596\n",
            "Epoch 85/100\n",
            "375/375 [==============================] - 2s 5ms/step - loss: 0.2711 - accuracy: 0.9170 - val_loss: 0.1679 - val_accuracy: 0.9594\n",
            "Epoch 86/100\n",
            "375/375 [==============================] - 2s 5ms/step - loss: 0.2692 - accuracy: 0.9172 - val_loss: 0.1609 - val_accuracy: 0.9608\n",
            "Epoch 87/100\n",
            "375/375 [==============================] - 2s 5ms/step - loss: 0.2698 - accuracy: 0.9175 - val_loss: 0.1653 - val_accuracy: 0.9603\n",
            "Epoch 88/100\n",
            "375/375 [==============================] - 2s 5ms/step - loss: 0.2683 - accuracy: 0.9169 - val_loss: 0.1699 - val_accuracy: 0.9611\n",
            "Epoch 89/100\n",
            "375/375 [==============================] - 2s 5ms/step - loss: 0.2653 - accuracy: 0.9176 - val_loss: 0.1745 - val_accuracy: 0.9596\n",
            "Epoch 90/100\n",
            "375/375 [==============================] - 2s 4ms/step - loss: 0.2654 - accuracy: 0.9180 - val_loss: 0.1787 - val_accuracy: 0.9574\n",
            "Epoch 91/100\n",
            "375/375 [==============================] - 2s 5ms/step - loss: 0.2659 - accuracy: 0.9166 - val_loss: 0.1734 - val_accuracy: 0.9607\n",
            "Epoch 92/100\n",
            "375/375 [==============================] - 2s 5ms/step - loss: 0.2651 - accuracy: 0.9189 - val_loss: 0.1708 - val_accuracy: 0.9592\n",
            "Epoch 93/100\n",
            "375/375 [==============================] - 2s 4ms/step - loss: 0.2623 - accuracy: 0.9185 - val_loss: 0.1752 - val_accuracy: 0.9595\n",
            "Epoch 94/100\n",
            "375/375 [==============================] - 2s 5ms/step - loss: 0.2581 - accuracy: 0.9201 - val_loss: 0.1747 - val_accuracy: 0.9597\n",
            "Epoch 95/100\n",
            "375/375 [==============================] - 2s 5ms/step - loss: 0.2626 - accuracy: 0.9196 - val_loss: 0.1693 - val_accuracy: 0.9612\n",
            "Epoch 96/100\n",
            "375/375 [==============================] - 2s 5ms/step - loss: 0.2695 - accuracy: 0.9165 - val_loss: 0.1792 - val_accuracy: 0.9605\n",
            "Epoch 97/100\n",
            "375/375 [==============================] - 2s 5ms/step - loss: 0.2636 - accuracy: 0.9178 - val_loss: 0.1729 - val_accuracy: 0.9601\n",
            "Epoch 98/100\n",
            "375/375 [==============================] - 2s 4ms/step - loss: 0.2625 - accuracy: 0.9184 - val_loss: 0.1747 - val_accuracy: 0.9596\n",
            "Epoch 99/100\n",
            "375/375 [==============================] - 2s 4ms/step - loss: 0.2594 - accuracy: 0.9207 - val_loss: 0.1748 - val_accuracy: 0.9592\n",
            "Epoch 100/100\n",
            "375/375 [==============================] - 2s 4ms/step - loss: 0.2673 - accuracy: 0.9169 - val_loss: 0.1777 - val_accuracy: 0.9601\n",
            "CPU times: user 2min 56s, sys: 30 s, total: 3min 26s\n",
            "Wall time: 3min 22s\n"
          ]
        }
      ]
    },
    {
      "cell_type": "markdown",
      "source": [
        "- testの予測とtestの予測精度を表示"
      ],
      "metadata": {
        "id": "QcK7ktt0cCbn"
      }
    },
    {
      "cell_type": "code",
      "metadata": {
        "colab": {
          "base_uri": "https://localhost:8080/"
        },
        "id": "W_fGbUkGxWq-",
        "outputId": "f9df942a-0394-4fea-f0ca-a8ce45f7114a"
      },
      "source": [
        "score_nn = model_nn.evaluate(x_test_nn, y_test, verbose=1, batch_size=128)\n",
        "print('Test loss:', score_nn[0])\n",
        "print('Test accuracy:', score_nn[1])"
      ],
      "execution_count": null,
      "outputs": [
        {
          "output_type": "stream",
          "name": "stdout",
          "text": [
            "79/79 [==============================] - 0s 3ms/step - loss: 0.1889 - accuracy: 0.9560\n",
            "Test loss: 0.18889418244361877\n",
            "Test accuracy: 0.9559999704360962\n"
          ]
        }
      ]
    },
    {
      "cell_type": "markdown",
      "source": [
        "- accuracyの上がり方を表示"
      ],
      "metadata": {
        "id": "PZgnDFgqhWNR"
      }
    },
    {
      "cell_type": "code",
      "metadata": {
        "colab": {
          "base_uri": "https://localhost:8080/",
          "height": 281
        },
        "id": "EzFVsrvyzMph",
        "outputId": "f96abfc8-0137-4320-d804-1057b084755a"
      },
      "source": [
        "plt.figure()\n",
        "\n",
        "plt.plot(model_nn_fit.history[\"accuracy\"], label=\"Accuracy_\"+ \"nn\", marker=\".\", color=\"green\")\n",
        "plt.plot(model_nn_fit.history[\"val_accuracy\"], label=\"Val_Accuracy_\"+ \"nn\", marker=\".\", color=\"blue\")\n",
        "\n",
        "plt.grid()\n",
        "plt.legend(loc=\"best\")\n",
        "plt.title(\"Accuracy\")\n",
        "plt.show()"
      ],
      "execution_count": null,
      "outputs": [
        {
          "output_type": "display_data",
          "data": {
            "image/png": "[encoded data removed]",
            "text/plain": [
              "<Figure size 432x288 with 1 Axes>"
            ]
          },
          "metadata": {
            "needs_background": "light"
          }
        }
      ]
    },
    {
      "cell_type": "markdown",
      "source": [
        "- lossの下がり方を表示"
      ],
      "metadata": {
        "id": "SBxZ-lBlhbTO"
      }
    },
    {
      "cell_type": "code",
      "metadata": {
        "colab": {
          "base_uri": "https://localhost:8080/",
          "height": 281
        },
        "id": "__1h002K3uPX",
        "outputId": "124acb09-6604-425c-dc78-3ae3ff22dfe4"
      },
      "source": [
        "plt.figure()\n",
        "\n",
        "plt.plot(model_nn_fit.history[\"loss\"], label=\"Loss_\"+\"nn\", marker='.', color=\"green\")\n",
        "plt.plot(model_nn_fit.history[\"val_loss\"], label=\"Val_Loss_\"+\"nn\", marker=\"s\", color=\"blue\")\n",
        "\n",
        "plt.grid()\n",
        "plt.legend(loc=\"best\")\n",
        "plt.title(\"Loss\")\n",
        "\n",
        "plt.show()"
      ],
      "execution_count": null,
      "outputs": [
        {
          "output_type": "display_data",
          "data": {
            "image/png": "[encoded data removed]",
            "text/plain": [
              "<Figure size 432x288 with 1 Axes>"
            ]
          },
          "metadata": {
            "needs_background": "light"
          }
        }
      ]
    },
    {
      "cell_type": "markdown",
      "metadata": {
        "id": "1-qhnwcP4v5Y"
      },
      "source": [
        "## CNN"
      ]
    },
    {
      "cell_type": "markdown",
      "source": [
        "- CNNのモデルを組む\n",
        "    - 2層のConv層と1層の全結合層\n",
        "        - Conv1層目:\n",
        "            - 出力のチャネル数（フィルターの数っぽいが、フィルターの数は「出力のチャネル数」*「インプットのチャネル数」）：32\n",
        "            - フィルターのサイズ： ( 3 * 3 )\n",
        "        - Conv2層目:\n",
        "            - 出力のチャネル数（フィルターの数っぽいが、フィルターの数は「出力のチャネル数」*「インプットのチャネル数」）：64\n",
        "            - フィルターのサイズ： ( 3 * 3 )\n",
        "        - 全結合層:ニューロン数は128\n",
        "        - 出力層:ニューロン数は10（10クラス分類だから）\n",
        "    - 学習に関する設定\n",
        "        - 損失関数：交差エントロピー（MSEでもいいけど、交差エントロピーの方が確率的勾配降下法の際に計算が楽っぽい）\n",
        "        - 最適化手法：Adam\n",
        "        - 評価関数：正解率"
      ],
      "metadata": {
        "id": "tLirEMc4R1j8"
      }
    },
    {
      "cell_type": "code",
      "metadata": {
        "id": "kqu96lx93uMm"
      },
      "source": [
        "model_cnn = Sequential()\n",
        "model_cnn.add(Conv2D(32, kernel_size=(3, 3), activation='relu', input_shape=(28, 28, 1)))\n",
        "model_cnn.add(Conv2D(64, kernel_size=(3, 3), activation='relu'))\n",
        "model_cnn.add(MaxPooling2D(pool_size=(2, 2)))\n",
        "model_cnn.add(Dropout(0.25))\n",
        "model_cnn.add(Flatten())\n",
        "model_cnn.add(Dense(128, activation='relu'))\n",
        "model_cnn.add(Dropout(0.5))\n",
        "model_cnn.add(Dense(10, activation='softmax'))"
      ],
      "execution_count": null,
      "outputs": []
    },
    {
      "cell_type": "code",
      "metadata": {
        "id": "mHNOPJAX4FiV"
      },
      "source": [
        "model_cnn.compile(\n",
        "    loss=\"categorical_crossentropy\",\n",
        "    optimizer=\"Adam\",\n",
        "    metrics=['accuracy']\n",
        ")"
      ],
      "execution_count": null,
      "outputs": []
    },
    {
      "cell_type": "markdown",
      "source": [
        "- モデルの構造を確認\n",
        "    - パラメータの数は、合計で 320個 + 18496個 + 1179776個 + 1290個 = 1199882個\n",
        "        - Conv1層目は、32枚の ( 3 * 3 ) のフィルターで1チャネルの画像を畳み込むから、 ( 3 * 3 ) * 1 * 32 + 32 = 320個\n",
        "            - +32はバイアス\n",
        "        - Conv2層目は、64枚の ( 3 * 3 ) のフィルターで32チャネルの画像を畳み込むから、 ( 3 * 3 ) * 32 * 64 + 64 = 18496個\n",
        "            - +1はバイアスのニューロン\n",
        "        - 全結合層は、 ( 9216 + 1) 個のニューロンと128個のニューロンの全結合だから、 ( 9216 + 1 ) * 128 = 1179776個\n",
        "            - +1はバイアスのニューロン\n",
        "        - 出力層は、 ( 128 + 1 ) 個のニューロンと10個のニューロンの全結合だから、 ( 128 + 1 ) * 10 = 1290個\n",
        "            - +1はバイアスのニューロン"
      ],
      "metadata": {
        "id": "y6vzrL3JV-YN"
      }
    },
    {
      "cell_type": "code",
      "metadata": {
        "colab": {
          "base_uri": "https://localhost:8080/"
        },
        "id": "fjSiIhzA46pK",
        "outputId": "1999f6f4-d691-4109-8e20-c85ebab0c840"
      },
      "source": [
        "print(model_cnn.summary())"
      ],
      "execution_count": null,
      "outputs": [
        {
          "output_type": "stream",
          "name": "stdout",
          "text": [
            "Model: \"sequential_1\"\n",
            "_________________________________________________________________\n",
            " Layer (type)                Output Shape              Param #   \n",
            "=================================================================\n",
            " conv2d (Conv2D)             (None, 26, 26, 32)        320       \n",
            "                                                                 \n",
            " conv2d_1 (Conv2D)           (None, 24, 24, 64)        18496     \n",
            "                                                                 \n",
            " max_pooling2d (MaxPooling2D  (None, 12, 12, 64)       0         \n",
            " )                                                               \n",
            "                                                                 \n",
            " dropout_2 (Dropout)         (None, 12, 12, 64)        0         \n",
            "                                                                 \n",
            " flatten (Flatten)           (None, 9216)              0         \n",
            "                                                                 \n",
            " dense_3 (Dense)             (None, 128)               1179776   \n",
            "                                                                 \n",
            " dropout_3 (Dropout)         (None, 128)               0         \n",
            "                                                                 \n",
            " dense_4 (Dense)             (None, 10)                1290      \n",
            "                                                                 \n",
            "=================================================================\n",
            "Total params: 1,199,882\n",
            "Trainable params: 1,199,882\n",
            "Non-trainable params: 0\n",
            "_________________________________________________________________\n",
            "None\n"
          ]
        }
      ]
    },
    {
      "cell_type": "markdown",
      "source": [
        "- 学習（1199882個のパラメータの推定）\n",
        "    - エポック数は100\n",
        "    - バッチサイズは128\n",
        "    - trainを train:valid=0.8:0.2 に分割"
      ],
      "metadata": {
        "id": "GGQgjW4Tc_5I"
      }
    },
    {
      "cell_type": "code",
      "metadata": {
        "colab": {
          "base_uri": "https://localhost:8080/"
        },
        "id": "GH0TVs1R49Hv",
        "outputId": "621fbd0a-ef26-4a7a-fe6c-e6a9daee8c29"
      },
      "source": [
        "%%time\n",
        "\n",
        "epochs = 100\n",
        "\n",
        "model_cnn_fit = model_cnn.fit(x_train, y_train,\n",
        "                    batch_size=128,\n",
        "                    epochs=epochs,\n",
        "                    verbose=1,\n",
        "                    validation_split = 0.2)"
      ],
      "execution_count": null,
      "outputs": [
        {
          "output_type": "stream",
          "name": "stdout",
          "text": [
            "Epoch 1/100\n",
            "375/375 [==============================] - 7s 17ms/step - loss: 0.2384 - accuracy: 0.9292 - val_loss: 0.0654 - val_accuracy: 0.9810\n",
            "Epoch 2/100\n",
            "375/375 [==============================] - 6s 17ms/step - loss: 0.1027 - accuracy: 0.9700 - val_loss: 0.0524 - val_accuracy: 0.9847\n",
            "Epoch 3/100\n",
            "375/375 [==============================] - 6s 17ms/step - loss: 0.0751 - accuracy: 0.9772 - val_loss: 0.0459 - val_accuracy: 0.9862\n",
            "Epoch 4/100\n",
            "375/375 [==============================] - 6s 16ms/step - loss: 0.0607 - accuracy: 0.9809 - val_loss: 0.0426 - val_accuracy: 0.9887\n",
            "Epoch 5/100\n",
            "375/375 [==============================] - 6s 17ms/step - loss: 0.0529 - accuracy: 0.9832 - val_loss: 0.0403 - val_accuracy: 0.9887\n",
            "Epoch 6/100\n",
            "375/375 [==============================] - 6s 17ms/step - loss: 0.0460 - accuracy: 0.9852 - val_loss: 0.0413 - val_accuracy: 0.9887\n",
            "Epoch 7/100\n",
            "375/375 [==============================] - 6s 16ms/step - loss: 0.0406 - accuracy: 0.9871 - val_loss: 0.0350 - val_accuracy: 0.9898\n",
            "Epoch 8/100\n",
            "375/375 [==============================] - 6s 17ms/step - loss: 0.0353 - accuracy: 0.9885 - val_loss: 0.0375 - val_accuracy: 0.9907\n",
            "Epoch 9/100\n",
            "375/375 [==============================] - 6s 17ms/step - loss: 0.0330 - accuracy: 0.9891 - val_loss: 0.0416 - val_accuracy: 0.9888\n",
            "Epoch 10/100\n",
            "375/375 [==============================] - 6s 16ms/step - loss: 0.0304 - accuracy: 0.9902 - val_loss: 0.0376 - val_accuracy: 0.9912\n",
            "Epoch 11/100\n",
            "375/375 [==============================] - 6s 17ms/step - loss: 0.0253 - accuracy: 0.9915 - val_loss: 0.0400 - val_accuracy: 0.9912\n",
            "Epoch 12/100\n",
            "375/375 [==============================] - 6s 16ms/step - loss: 0.0269 - accuracy: 0.9912 - val_loss: 0.0416 - val_accuracy: 0.9902\n",
            "Epoch 13/100\n",
            "375/375 [==============================] - 6s 17ms/step - loss: 0.0237 - accuracy: 0.9921 - val_loss: 0.0395 - val_accuracy: 0.9904\n",
            "Epoch 14/100\n",
            "375/375 [==============================] - 6s 17ms/step - loss: 0.0215 - accuracy: 0.9928 - val_loss: 0.0344 - val_accuracy: 0.9912\n",
            "Epoch 15/100\n",
            "375/375 [==============================] - 6s 16ms/step - loss: 0.0207 - accuracy: 0.9932 - val_loss: 0.0386 - val_accuracy: 0.9910\n",
            "Epoch 16/100\n",
            "375/375 [==============================] - 6s 17ms/step - loss: 0.0187 - accuracy: 0.9938 - val_loss: 0.0433 - val_accuracy: 0.9908\n",
            "Epoch 17/100\n",
            "375/375 [==============================] - 6s 16ms/step - loss: 0.0190 - accuracy: 0.9939 - val_loss: 0.0374 - val_accuracy: 0.9912\n",
            "Epoch 18/100\n",
            "375/375 [==============================] - 6s 17ms/step - loss: 0.0192 - accuracy: 0.9937 - val_loss: 0.0387 - val_accuracy: 0.9900\n",
            "Epoch 19/100\n",
            "375/375 [==============================] - 6s 17ms/step - loss: 0.0163 - accuracy: 0.9944 - val_loss: 0.0369 - val_accuracy: 0.9916\n",
            "Epoch 20/100\n",
            "375/375 [==============================] - 6s 16ms/step - loss: 0.0166 - accuracy: 0.9944 - val_loss: 0.0449 - val_accuracy: 0.9907\n",
            "Epoch 21/100\n",
            "375/375 [==============================] - 6s 17ms/step - loss: 0.0148 - accuracy: 0.9951 - val_loss: 0.0428 - val_accuracy: 0.9912\n",
            "Epoch 22/100\n",
            "375/375 [==============================] - 6s 17ms/step - loss: 0.0152 - accuracy: 0.9950 - val_loss: 0.0420 - val_accuracy: 0.9908\n",
            "Epoch 23/100\n",
            "375/375 [==============================] - 6s 17ms/step - loss: 0.0141 - accuracy: 0.9954 - val_loss: 0.0405 - val_accuracy: 0.9902\n",
            "Epoch 24/100\n",
            "375/375 [==============================] - 6s 17ms/step - loss: 0.0124 - accuracy: 0.9960 - val_loss: 0.0425 - val_accuracy: 0.9908\n",
            "Epoch 25/100\n",
            "375/375 [==============================] - 6s 17ms/step - loss: 0.0119 - accuracy: 0.9959 - val_loss: 0.0408 - val_accuracy: 0.9912\n",
            "Epoch 26/100\n",
            "375/375 [==============================] - 6s 17ms/step - loss: 0.0133 - accuracy: 0.9952 - val_loss: 0.0464 - val_accuracy: 0.9912\n",
            "Epoch 27/100\n",
            "375/375 [==============================] - 6s 17ms/step - loss: 0.0122 - accuracy: 0.9959 - val_loss: 0.0448 - val_accuracy: 0.9913\n",
            "Epoch 28/100\n",
            "375/375 [==============================] - 6s 17ms/step - loss: 0.0122 - accuracy: 0.9958 - val_loss: 0.0467 - val_accuracy: 0.9907\n",
            "Epoch 29/100\n",
            "375/375 [==============================] - 6s 17ms/step - loss: 0.0122 - accuracy: 0.9958 - val_loss: 0.0444 - val_accuracy: 0.9906\n",
            "Epoch 30/100\n",
            "375/375 [==============================] - 6s 17ms/step - loss: 0.0126 - accuracy: 0.9957 - val_loss: 0.0400 - val_accuracy: 0.9915\n",
            "Epoch 31/100\n",
            "375/375 [==============================] - 6s 17ms/step - loss: 0.0108 - accuracy: 0.9960 - val_loss: 0.0493 - val_accuracy: 0.9906\n",
            "Epoch 32/100\n",
            "375/375 [==============================] - 6s 17ms/step - loss: 0.0102 - accuracy: 0.9963 - val_loss: 0.0487 - val_accuracy: 0.9913\n",
            "Epoch 33/100\n",
            "375/375 [==============================] - 6s 17ms/step - loss: 0.0099 - accuracy: 0.9965 - val_loss: 0.0431 - val_accuracy: 0.9923\n",
            "Epoch 34/100\n",
            "375/375 [==============================] - 6s 17ms/step - loss: 0.0106 - accuracy: 0.9964 - val_loss: 0.0432 - val_accuracy: 0.9912\n",
            "Epoch 35/100\n",
            "375/375 [==============================] - 6s 17ms/step - loss: 0.0087 - accuracy: 0.9968 - val_loss: 0.0458 - val_accuracy: 0.9915\n",
            "Epoch 36/100\n",
            "375/375 [==============================] - 6s 17ms/step - loss: 0.0095 - accuracy: 0.9967 - val_loss: 0.0461 - val_accuracy: 0.9915\n",
            "Epoch 37/100\n",
            "375/375 [==============================] - 6s 17ms/step - loss: 0.0100 - accuracy: 0.9968 - val_loss: 0.0467 - val_accuracy: 0.9908\n",
            "Epoch 38/100\n",
            "375/375 [==============================] - 6s 17ms/step - loss: 0.0080 - accuracy: 0.9972 - val_loss: 0.0509 - val_accuracy: 0.9916\n",
            "Epoch 39/100\n",
            "375/375 [==============================] - 6s 17ms/step - loss: 0.0096 - accuracy: 0.9966 - val_loss: 0.0445 - val_accuracy: 0.9916\n",
            "Epoch 40/100\n",
            "375/375 [==============================] - 6s 17ms/step - loss: 0.0079 - accuracy: 0.9974 - val_loss: 0.0481 - val_accuracy: 0.9920\n",
            "Epoch 41/100\n",
            "375/375 [==============================] - 6s 17ms/step - loss: 0.0093 - accuracy: 0.9970 - val_loss: 0.0460 - val_accuracy: 0.9920\n",
            "Epoch 42/100\n",
            "375/375 [==============================] - 6s 17ms/step - loss: 0.0075 - accuracy: 0.9974 - val_loss: 0.0502 - val_accuracy: 0.9914\n",
            "Epoch 43/100\n",
            "375/375 [==============================] - 6s 16ms/step - loss: 0.0097 - accuracy: 0.9969 - val_loss: 0.0483 - val_accuracy: 0.9915\n",
            "Epoch 44/100\n",
            "375/375 [==============================] - 6s 17ms/step - loss: 0.0083 - accuracy: 0.9970 - val_loss: 0.0453 - val_accuracy: 0.9922\n",
            "Epoch 45/100\n",
            "375/375 [==============================] - 6s 17ms/step - loss: 0.0070 - accuracy: 0.9975 - val_loss: 0.0481 - val_accuracy: 0.9924\n",
            "Epoch 46/100\n",
            "375/375 [==============================] - 6s 17ms/step - loss: 0.0078 - accuracy: 0.9974 - val_loss: 0.0504 - val_accuracy: 0.9918\n",
            "Epoch 47/100\n",
            "375/375 [==============================] - 6s 17ms/step - loss: 0.0081 - accuracy: 0.9973 - val_loss: 0.0525 - val_accuracy: 0.9915\n",
            "Epoch 48/100\n",
            "375/375 [==============================] - 6s 17ms/step - loss: 0.0083 - accuracy: 0.9975 - val_loss: 0.0477 - val_accuracy: 0.9918\n",
            "Epoch 49/100\n",
            "375/375 [==============================] - 6s 17ms/step - loss: 0.0067 - accuracy: 0.9976 - val_loss: 0.0536 - val_accuracy: 0.9913\n",
            "Epoch 50/100\n",
            "375/375 [==============================] - 6s 17ms/step - loss: 0.0071 - accuracy: 0.9976 - val_loss: 0.0477 - val_accuracy: 0.9923\n",
            "Epoch 51/100\n",
            "375/375 [==============================] - 6s 17ms/step - loss: 0.0069 - accuracy: 0.9977 - val_loss: 0.0479 - val_accuracy: 0.9924\n",
            "Epoch 52/100\n",
            "375/375 [==============================] - 6s 17ms/step - loss: 0.0056 - accuracy: 0.9981 - val_loss: 0.0472 - val_accuracy: 0.9921\n",
            "Epoch 53/100\n",
            "375/375 [==============================] - 6s 17ms/step - loss: 0.0077 - accuracy: 0.9976 - val_loss: 0.0456 - val_accuracy: 0.9917\n",
            "Epoch 54/100\n",
            "375/375 [==============================] - 6s 17ms/step - loss: 0.0069 - accuracy: 0.9976 - val_loss: 0.0544 - val_accuracy: 0.9918\n",
            "Epoch 55/100\n",
            "375/375 [==============================] - 7s 18ms/step - loss: 0.0070 - accuracy: 0.9977 - val_loss: 0.0462 - val_accuracy: 0.9923\n",
            "Epoch 56/100\n",
            "375/375 [==============================] - 6s 17ms/step - loss: 0.0060 - accuracy: 0.9980 - val_loss: 0.0512 - val_accuracy: 0.9917\n",
            "Epoch 57/100\n",
            "375/375 [==============================] - 6s 17ms/step - loss: 0.0069 - accuracy: 0.9976 - val_loss: 0.0591 - val_accuracy: 0.9909\n",
            "Epoch 58/100\n",
            "375/375 [==============================] - 6s 17ms/step - loss: 0.0070 - accuracy: 0.9977 - val_loss: 0.0483 - val_accuracy: 0.9923\n",
            "Epoch 59/100\n",
            "375/375 [==============================] - 6s 17ms/step - loss: 0.0059 - accuracy: 0.9979 - val_loss: 0.0514 - val_accuracy: 0.9920\n",
            "Epoch 60/100\n",
            "375/375 [==============================] - 6s 17ms/step - loss: 0.0069 - accuracy: 0.9977 - val_loss: 0.0493 - val_accuracy: 0.9918\n",
            "Epoch 61/100\n",
            "375/375 [==============================] - 6s 17ms/step - loss: 0.0060 - accuracy: 0.9979 - val_loss: 0.0463 - val_accuracy: 0.9931\n",
            "Epoch 62/100\n",
            "375/375 [==============================] - 6s 17ms/step - loss: 0.0065 - accuracy: 0.9978 - val_loss: 0.0504 - val_accuracy: 0.9924\n",
            "Epoch 63/100\n",
            "375/375 [==============================] - 6s 17ms/step - loss: 0.0047 - accuracy: 0.9985 - val_loss: 0.0526 - val_accuracy: 0.9933\n",
            "Epoch 64/100\n",
            "375/375 [==============================] - 6s 17ms/step - loss: 0.0068 - accuracy: 0.9977 - val_loss: 0.0499 - val_accuracy: 0.9923\n",
            "Epoch 65/100\n",
            "375/375 [==============================] - 6s 17ms/step - loss: 0.0045 - accuracy: 0.9983 - val_loss: 0.0511 - val_accuracy: 0.9927\n",
            "Epoch 66/100\n",
            "375/375 [==============================] - 6s 17ms/step - loss: 0.0067 - accuracy: 0.9977 - val_loss: 0.0572 - val_accuracy: 0.9913\n",
            "Epoch 67/100\n",
            "375/375 [==============================] - 6s 17ms/step - loss: 0.0064 - accuracy: 0.9979 - val_loss: 0.0511 - val_accuracy: 0.9926\n",
            "Epoch 68/100\n",
            "375/375 [==============================] - 6s 17ms/step - loss: 0.0058 - accuracy: 0.9979 - val_loss: 0.0537 - val_accuracy: 0.9924\n",
            "Epoch 69/100\n",
            "375/375 [==============================] - 6s 17ms/step - loss: 0.0052 - accuracy: 0.9981 - val_loss: 0.0550 - val_accuracy: 0.9926\n",
            "Epoch 70/100\n",
            "375/375 [==============================] - 6s 17ms/step - loss: 0.0062 - accuracy: 0.9979 - val_loss: 0.0468 - val_accuracy: 0.9926\n",
            "Epoch 71/100\n",
            "375/375 [==============================] - 6s 17ms/step - loss: 0.0049 - accuracy: 0.9983 - val_loss: 0.0490 - val_accuracy: 0.9930\n",
            "Epoch 72/100\n",
            "375/375 [==============================] - 6s 17ms/step - loss: 0.0047 - accuracy: 0.9983 - val_loss: 0.0469 - val_accuracy: 0.9926\n",
            "Epoch 73/100\n",
            "375/375 [==============================] - 7s 17ms/step - loss: 0.0047 - accuracy: 0.9984 - val_loss: 0.0593 - val_accuracy: 0.9925\n",
            "Epoch 74/100\n",
            "375/375 [==============================] - 6s 17ms/step - loss: 0.0055 - accuracy: 0.9980 - val_loss: 0.0482 - val_accuracy: 0.9914\n",
            "Epoch 75/100\n",
            "375/375 [==============================] - 6s 17ms/step - loss: 0.0053 - accuracy: 0.9980 - val_loss: 0.0657 - val_accuracy: 0.9921\n",
            "Epoch 76/100\n",
            "375/375 [==============================] - 6s 17ms/step - loss: 0.0057 - accuracy: 0.9981 - val_loss: 0.0563 - val_accuracy: 0.9928\n",
            "Epoch 77/100\n",
            "375/375 [==============================] - 6s 17ms/step - loss: 0.0056 - accuracy: 0.9980 - val_loss: 0.0574 - val_accuracy: 0.9922\n",
            "Epoch 78/100\n",
            "375/375 [==============================] - 6s 17ms/step - loss: 0.0060 - accuracy: 0.9983 - val_loss: 0.0489 - val_accuracy: 0.9926\n",
            "Epoch 79/100\n",
            "375/375 [==============================] - 6s 17ms/step - loss: 0.0065 - accuracy: 0.9977 - val_loss: 0.0559 - val_accuracy: 0.9924\n",
            "Epoch 80/100\n",
            "375/375 [==============================] - 6s 17ms/step - loss: 0.0052 - accuracy: 0.9983 - val_loss: 0.0546 - val_accuracy: 0.9916\n",
            "Epoch 81/100\n",
            "375/375 [==============================] - 6s 17ms/step - loss: 0.0054 - accuracy: 0.9981 - val_loss: 0.0550 - val_accuracy: 0.9915\n",
            "Epoch 82/100\n",
            "375/375 [==============================] - 6s 17ms/step - loss: 0.0050 - accuracy: 0.9984 - val_loss: 0.0560 - val_accuracy: 0.9926\n",
            "Epoch 83/100\n",
            "375/375 [==============================] - 6s 17ms/step - loss: 0.0049 - accuracy: 0.9985 - val_loss: 0.0595 - val_accuracy: 0.9925\n",
            "Epoch 84/100\n",
            "375/375 [==============================] - 6s 17ms/step - loss: 0.0051 - accuracy: 0.9982 - val_loss: 0.0565 - val_accuracy: 0.9929\n",
            "Epoch 85/100\n",
            "375/375 [==============================] - 6s 17ms/step - loss: 0.0045 - accuracy: 0.9985 - val_loss: 0.0543 - val_accuracy: 0.9923\n",
            "Epoch 86/100\n",
            "375/375 [==============================] - 6s 17ms/step - loss: 0.0044 - accuracy: 0.9988 - val_loss: 0.0528 - val_accuracy: 0.9926\n",
            "Epoch 87/100\n",
            "375/375 [==============================] - 6s 17ms/step - loss: 0.0043 - accuracy: 0.9985 - val_loss: 0.0616 - val_accuracy: 0.9925\n",
            "Epoch 88/100\n",
            "375/375 [==============================] - 6s 17ms/step - loss: 0.0052 - accuracy: 0.9984 - val_loss: 0.0593 - val_accuracy: 0.9921\n",
            "Epoch 89/100\n",
            "375/375 [==============================] - 6s 17ms/step - loss: 0.0056 - accuracy: 0.9983 - val_loss: 0.0543 - val_accuracy: 0.9925\n",
            "Epoch 90/100\n",
            "375/375 [==============================] - 6s 17ms/step - loss: 0.0043 - accuracy: 0.9985 - val_loss: 0.0558 - val_accuracy: 0.9924\n",
            "Epoch 91/100\n",
            "375/375 [==============================] - 6s 17ms/step - loss: 0.0033 - accuracy: 0.9990 - val_loss: 0.0638 - val_accuracy: 0.9925\n",
            "Epoch 92/100\n",
            "375/375 [==============================] - 6s 17ms/step - loss: 0.0040 - accuracy: 0.9987 - val_loss: 0.0559 - val_accuracy: 0.9927\n",
            "Epoch 93/100\n",
            "375/375 [==============================] - 6s 17ms/step - loss: 0.0048 - accuracy: 0.9982 - val_loss: 0.0590 - val_accuracy: 0.9924\n",
            "Epoch 94/100\n",
            "375/375 [==============================] - 6s 17ms/step - loss: 0.0061 - accuracy: 0.9981 - val_loss: 0.0614 - val_accuracy: 0.9923\n",
            "Epoch 95/100\n",
            "375/375 [==============================] - 6s 17ms/step - loss: 0.0043 - accuracy: 0.9987 - val_loss: 0.0673 - val_accuracy: 0.9925\n",
            "Epoch 96/100\n",
            "375/375 [==============================] - 6s 17ms/step - loss: 0.0037 - accuracy: 0.9987 - val_loss: 0.0622 - val_accuracy: 0.9923\n",
            "Epoch 97/100\n",
            "375/375 [==============================] - 6s 17ms/step - loss: 0.0045 - accuracy: 0.9987 - val_loss: 0.0608 - val_accuracy: 0.9915\n",
            "Epoch 98/100\n",
            "375/375 [==============================] - 6s 17ms/step - loss: 0.0035 - accuracy: 0.9987 - val_loss: 0.0554 - val_accuracy: 0.9927\n",
            "Epoch 99/100\n",
            "375/375 [==============================] - 6s 17ms/step - loss: 0.0044 - accuracy: 0.9984 - val_loss: 0.0623 - val_accuracy: 0.9923\n",
            "Epoch 100/100\n",
            "375/375 [==============================] - 6s 17ms/step - loss: 0.0044 - accuracy: 0.9985 - val_loss: 0.0596 - val_accuracy: 0.9919\n",
            "CPU times: user 10min 2s, sys: 37.1 s, total: 10min 39s\n",
            "Wall time: 11min 22s\n"
          ]
        }
      ]
    },
    {
      "cell_type": "markdown",
      "source": [
        "- testの予測とtestの予測精度を表示"
      ],
      "metadata": {
        "id": "B96vAXBOdNlu"
      }
    },
    {
      "cell_type": "code",
      "metadata": {
        "colab": {
          "base_uri": "https://localhost:8080/"
        },
        "id": "hjOWGIqQ5UuI",
        "outputId": "57664694-78de-4748-ca8a-a40b7420772f"
      },
      "source": [
        "score_cnn = model_cnn.evaluate(x_test, y_test, verbose=1, batch_size=128)\n",
        "print('Test loss:', score_cnn[0])\n",
        "print('Test accuracy:', score_cnn[1])"
      ],
      "execution_count": null,
      "outputs": [
        {
          "output_type": "stream",
          "name": "stdout",
          "text": [
            "79/79 [==============================] - 1s 8ms/step - loss: 0.0487 - accuracy: 0.9931\n",
            "Test loss: 0.048672426491975784\n",
            "Test accuracy: 0.9930999875068665\n"
          ]
        }
      ]
    },
    {
      "cell_type": "markdown",
      "source": [
        "- accuracyの上がり方を表示"
      ],
      "metadata": {
        "id": "lq4b9g52dSjz"
      }
    },
    {
      "cell_type": "code",
      "metadata": {
        "colab": {
          "base_uri": "https://localhost:8080/",
          "height": 54
        },
        "id": "C1pMkyl-8Vsu",
        "outputId": "5eb2e0a4-ddd1-4324-862f-abf1a52dac08"
      },
      "source": [
        "plt.figure()\n",
        "\n",
        "plt.plot(model_cnn_fit.history[\"accuracy\"], label=\"Accuracy_\"+ \"cnn\", marker=\".\", color=\"green\")\n",
        "plt.plot(model_cnn_fit.history[\"val_accuracy\"], label=\"Val_Accuracy_\"+ \"cnn\", marker=\".\", color=\"blue\")\n",
        "\n",
        "plt.grid()\n",
        "plt.legend(loc=\"best\")\n",
        "plt.title(\"Accuracy\")\n",
        "plt.show()"
      ],
      "execution_count": null,
      "outputs": [
        {
          "output_type": "display_data",
          "data": {
            "image/png": "[encoded data removed]",
            "text/plain": [
              "<Figure size 432x288 with 1 Axes>"
            ]
          },
          "metadata": {
            "needs_background": "light"
          }
        }
      ]
    },
    {
      "cell_type": "markdown",
      "source": [
        "- lossの下がり方を表示"
      ],
      "metadata": {
        "id": "ucwUdaWTdVS0"
      }
    },
    {
      "cell_type": "code",
      "metadata": {
        "colab": {
          "base_uri": "https://localhost:8080/",
          "height": 54
        },
        "id": "ZDj1jkaJ8hPD",
        "outputId": "3e1ce1db-cb20-482b-e77e-8110f949759f"
      },
      "source": [
        "plt.figure()\n",
        "\n",
        "plt.plot(model_cnn_fit.history[\"loss\"], label=\"Loss_\" + \"cnn\", marker='.', color=\"green\")\n",
        "plt.plot(model_cnn_fit.history[\"val_loss\"], label=\"Val_Loss_\"+ \"cnn\", marker=\"s\", color=\"blue\")\n",
        "\n",
        "plt.grid()\n",
        "plt.legend(loc=\"best\")\n",
        "plt.title(\"Loss\")\n",
        "\n",
        "plt.show()"
      ],
      "execution_count": null,
      "outputs": [
        {
          "output_type": "display_data",
          "data": {
            "image/png": "[encoded data removed]",
            "text/plain": [
              "<Figure size 432x288 with 1 Axes>"
            ]
          },
          "metadata": {
            "needs_background": "light"
          }
        }
      ]
    },
    {
      "cell_type": "markdown",
      "source": [
        "## NNをclass化"
      ],
      "metadata": {
        "id": "_M0Ljq7ursv8"
      }
    },
    {
      "cell_type": "code",
      "metadata": {
        "id": "bYPczJzW9Ouv"
      },
      "source": [
        "class my_NN:\n",
        "    def __init__(self):\n",
        "        self.Epoch = 100\n",
        "        self.Batch_size = 128\n",
        "        self.Verbose = 1\n",
        "        self.optimize = \"Adam\"\n",
        "        self.Validation_split = 0.2                  \n",
        "\n",
        "        self.Reshape = 28 * 28\n",
        "\n",
        "        self.hidden_units_1 = 50\n",
        "        self.hidden_units_2 = 50\n",
        "        self.output_units = 10\n",
        "        \n",
        "        self.model = Sequential()\n",
        " \n",
        "    def make_net(self):\n",
        "        self.model.add(Dense(self.hidden_units_1, activation=\"relu\", input_dim=self.Reshape))\n",
        "        self.model.add(Dropout(0.5))\n",
        "        self.model.add(Dense(self.hidden_units_2, activation = \"relu\"))\n",
        "        self.model.add(Dropout(0.5))\n",
        "        self.model.add(Dense(self.output_units, activation='softmax'))\n",
        " \n",
        "    def model_compile(self):\n",
        "        self.model.compile(loss=\"categorical_crossentropy\",         \n",
        "                           optimizer=self.optimize,         \n",
        "                           metrics=[\"accuracy\"])\n",
        " \n",
        "    def make_model(self):\n",
        "        self.make_net()\n",
        "        self.model_compile()\n",
        " \n",
        "    def train(self, x, y):\n",
        "        self.model.fit(x, y, batch_size=self.Batch_size,\n",
        "                       epochs=self.Epoch,\n",
        "                       verbose=self.Verbose,\n",
        "                       validation_split=self.Validation_split)\n",
        " \n",
        "    def score(self, x, y):\n",
        "        return self.model.evaluate(x, y, verbose=self.Verbose, batch_size=self.Batch_size)"
      ],
      "execution_count": null,
      "outputs": []
    },
    {
      "cell_type": "code",
      "source": [
        "%%time\n",
        "\n",
        "my_nn = my_NN()\n",
        " \n",
        "my_nn.make_model()\n",
        " \n",
        "my_nn.train(x_train_nn, y_train)\n",
        "    \n",
        "score = my_nn.score(x_test_nn, y_test)"
      ],
      "metadata": {
        "colab": {
          "base_uri": "https://localhost:8080/"
        },
        "id": "hNmXljzn5FuT",
        "outputId": "ca7bd69b-a612-4608-9806-0a1f7509709a"
      },
      "execution_count": null,
      "outputs": [
        {
          "output_type": "stream",
          "name": "stdout",
          "text": [
            "Epoch 1/100\n",
            "375/375 [==============================] - 2s 5ms/step - loss: 1.1847 - accuracy: 0.6022 - val_loss: 0.3508 - val_accuracy: 0.9113\n",
            "Epoch 2/100\n",
            "375/375 [==============================] - 2s 5ms/step - loss: 0.6472 - accuracy: 0.8046 - val_loss: 0.2691 - val_accuracy: 0.9287\n",
            "Epoch 3/100\n",
            "375/375 [==============================] - 2s 5ms/step - loss: 0.5427 - accuracy: 0.8369 - val_loss: 0.2410 - val_accuracy: 0.9330\n",
            "Epoch 4/100\n",
            "375/375 [==============================] - 2s 4ms/step - loss: 0.4977 - accuracy: 0.8544 - val_loss: 0.2188 - val_accuracy: 0.9393\n",
            "Epoch 5/100\n",
            "375/375 [==============================] - 2s 4ms/step - loss: 0.4636 - accuracy: 0.8662 - val_loss: 0.2112 - val_accuracy: 0.9422\n",
            "Epoch 6/100\n",
            "375/375 [==============================] - 2s 4ms/step - loss: 0.4432 - accuracy: 0.8695 - val_loss: 0.1986 - val_accuracy: 0.9458\n",
            "Epoch 7/100\n",
            "375/375 [==============================] - 2s 5ms/step - loss: 0.4178 - accuracy: 0.8786 - val_loss: 0.1933 - val_accuracy: 0.9479\n",
            "Epoch 8/100\n",
            "375/375 [==============================] - 2s 4ms/step - loss: 0.4142 - accuracy: 0.8781 - val_loss: 0.1918 - val_accuracy: 0.9483\n",
            "Epoch 9/100\n",
            "375/375 [==============================] - 2s 4ms/step - loss: 0.3988 - accuracy: 0.8833 - val_loss: 0.1833 - val_accuracy: 0.9496\n",
            "Epoch 10/100\n",
            "375/375 [==============================] - 2s 5ms/step - loss: 0.3874 - accuracy: 0.8859 - val_loss: 0.1844 - val_accuracy: 0.9503\n",
            "Epoch 11/100\n",
            "375/375 [==============================] - 2s 5ms/step - loss: 0.3715 - accuracy: 0.8911 - val_loss: 0.1772 - val_accuracy: 0.9526\n",
            "Epoch 12/100\n",
            "375/375 [==============================] - 2s 4ms/step - loss: 0.3661 - accuracy: 0.8919 - val_loss: 0.1721 - val_accuracy: 0.9548\n",
            "Epoch 13/100\n",
            "375/375 [==============================] - 2s 5ms/step - loss: 0.3668 - accuracy: 0.8916 - val_loss: 0.1679 - val_accuracy: 0.9542\n",
            "Epoch 14/100\n",
            "375/375 [==============================] - 2s 5ms/step - loss: 0.3652 - accuracy: 0.8918 - val_loss: 0.1725 - val_accuracy: 0.9544\n",
            "Epoch 15/100\n",
            "375/375 [==============================] - 2s 5ms/step - loss: 0.3520 - accuracy: 0.8961 - val_loss: 0.1684 - val_accuracy: 0.9557\n",
            "Epoch 16/100\n",
            "375/375 [==============================] - 2s 5ms/step - loss: 0.3490 - accuracy: 0.8955 - val_loss: 0.1666 - val_accuracy: 0.9558\n",
            "Epoch 17/100\n",
            "375/375 [==============================] - 2s 5ms/step - loss: 0.3428 - accuracy: 0.8969 - val_loss: 0.1683 - val_accuracy: 0.9560\n",
            "Epoch 18/100\n",
            "375/375 [==============================] - 2s 5ms/step - loss: 0.3436 - accuracy: 0.8975 - val_loss: 0.1640 - val_accuracy: 0.9575\n",
            "Epoch 19/100\n",
            "375/375 [==============================] - 2s 5ms/step - loss: 0.3332 - accuracy: 0.9011 - val_loss: 0.1657 - val_accuracy: 0.9557\n",
            "Epoch 20/100\n",
            "375/375 [==============================] - 2s 5ms/step - loss: 0.3356 - accuracy: 0.9000 - val_loss: 0.1650 - val_accuracy: 0.9590\n",
            "Epoch 21/100\n",
            "375/375 [==============================] - 2s 4ms/step - loss: 0.3239 - accuracy: 0.9022 - val_loss: 0.1643 - val_accuracy: 0.9565\n",
            "Epoch 22/100\n",
            "375/375 [==============================] - 2s 5ms/step - loss: 0.3256 - accuracy: 0.9021 - val_loss: 0.1588 - val_accuracy: 0.9601\n",
            "Epoch 23/100\n",
            "375/375 [==============================] - 2s 5ms/step - loss: 0.3257 - accuracy: 0.9026 - val_loss: 0.1637 - val_accuracy: 0.9578\n",
            "Epoch 24/100\n",
            "375/375 [==============================] - 2s 4ms/step - loss: 0.3220 - accuracy: 0.9049 - val_loss: 0.1609 - val_accuracy: 0.9595\n",
            "Epoch 25/100\n",
            "375/375 [==============================] - 2s 5ms/step - loss: 0.3249 - accuracy: 0.9032 - val_loss: 0.1553 - val_accuracy: 0.9597\n",
            "Epoch 26/100\n",
            "375/375 [==============================] - 2s 4ms/step - loss: 0.3158 - accuracy: 0.9056 - val_loss: 0.1656 - val_accuracy: 0.9578\n",
            "Epoch 27/100\n",
            "375/375 [==============================] - 2s 4ms/step - loss: 0.3191 - accuracy: 0.9039 - val_loss: 0.1563 - val_accuracy: 0.9600\n",
            "Epoch 28/100\n",
            "375/375 [==============================] - 2s 5ms/step - loss: 0.3098 - accuracy: 0.9059 - val_loss: 0.1565 - val_accuracy: 0.9600\n",
            "Epoch 29/100\n",
            "375/375 [==============================] - 2s 4ms/step - loss: 0.3138 - accuracy: 0.9060 - val_loss: 0.1549 - val_accuracy: 0.9592\n",
            "Epoch 30/100\n",
            "375/375 [==============================] - 2s 5ms/step - loss: 0.3065 - accuracy: 0.9071 - val_loss: 0.1584 - val_accuracy: 0.9593\n",
            "Epoch 31/100\n",
            "375/375 [==============================] - 2s 5ms/step - loss: 0.3046 - accuracy: 0.9074 - val_loss: 0.1561 - val_accuracy: 0.9584\n",
            "Epoch 32/100\n",
            "375/375 [==============================] - 2s 5ms/step - loss: 0.3076 - accuracy: 0.9093 - val_loss: 0.1597 - val_accuracy: 0.9582\n",
            "Epoch 33/100\n",
            "375/375 [==============================] - 2s 5ms/step - loss: 0.3038 - accuracy: 0.9099 - val_loss: 0.1569 - val_accuracy: 0.9591\n",
            "Epoch 34/100\n",
            "375/375 [==============================] - 2s 5ms/step - loss: 0.2986 - accuracy: 0.9106 - val_loss: 0.1575 - val_accuracy: 0.9610\n",
            "Epoch 35/100\n",
            "375/375 [==============================] - 2s 5ms/step - loss: 0.3008 - accuracy: 0.9101 - val_loss: 0.1566 - val_accuracy: 0.9604\n",
            "Epoch 36/100\n",
            "375/375 [==============================] - 2s 5ms/step - loss: 0.2977 - accuracy: 0.9115 - val_loss: 0.1558 - val_accuracy: 0.9608\n",
            "Epoch 37/100\n",
            "375/375 [==============================] - 2s 5ms/step - loss: 0.2993 - accuracy: 0.9099 - val_loss: 0.1544 - val_accuracy: 0.9603\n",
            "Epoch 38/100\n",
            "375/375 [==============================] - 2s 5ms/step - loss: 0.2955 - accuracy: 0.9113 - val_loss: 0.1548 - val_accuracy: 0.9616\n",
            "Epoch 39/100\n",
            "375/375 [==============================] - 2s 5ms/step - loss: 0.2933 - accuracy: 0.9112 - val_loss: 0.1589 - val_accuracy: 0.9603\n",
            "Epoch 40/100\n",
            "375/375 [==============================] - 2s 4ms/step - loss: 0.2887 - accuracy: 0.9119 - val_loss: 0.1564 - val_accuracy: 0.9613\n",
            "Epoch 41/100\n",
            "375/375 [==============================] - 2s 5ms/step - loss: 0.2923 - accuracy: 0.9139 - val_loss: 0.1557 - val_accuracy: 0.9625\n",
            "Epoch 42/100\n",
            "375/375 [==============================] - 2s 5ms/step - loss: 0.2898 - accuracy: 0.9142 - val_loss: 0.1583 - val_accuracy: 0.9607\n",
            "Epoch 43/100\n",
            "375/375 [==============================] - 2s 5ms/step - loss: 0.2839 - accuracy: 0.9122 - val_loss: 0.1537 - val_accuracy: 0.9631\n",
            "Epoch 44/100\n",
            "375/375 [==============================] - 2s 5ms/step - loss: 0.2891 - accuracy: 0.9121 - val_loss: 0.1509 - val_accuracy: 0.9623\n",
            "Epoch 45/100\n",
            "375/375 [==============================] - 2s 5ms/step - loss: 0.2913 - accuracy: 0.9120 - val_loss: 0.1547 - val_accuracy: 0.9615\n",
            "Epoch 46/100\n",
            "375/375 [==============================] - 2s 5ms/step - loss: 0.2924 - accuracy: 0.9116 - val_loss: 0.1598 - val_accuracy: 0.9614\n",
            "Epoch 47/100\n",
            "375/375 [==============================] - 2s 5ms/step - loss: 0.2831 - accuracy: 0.9150 - val_loss: 0.1557 - val_accuracy: 0.9622\n",
            "Epoch 48/100\n",
            "375/375 [==============================] - 2s 5ms/step - loss: 0.2829 - accuracy: 0.9148 - val_loss: 0.1546 - val_accuracy: 0.9618\n",
            "Epoch 49/100\n",
            "375/375 [==============================] - 2s 5ms/step - loss: 0.2844 - accuracy: 0.9139 - val_loss: 0.1551 - val_accuracy: 0.9616\n",
            "Epoch 50/100\n",
            "375/375 [==============================] - 2s 5ms/step - loss: 0.2844 - accuracy: 0.9135 - val_loss: 0.1557 - val_accuracy: 0.9621\n",
            "Epoch 51/100\n",
            "375/375 [==============================] - 2s 5ms/step - loss: 0.2783 - accuracy: 0.9154 - val_loss: 0.1499 - val_accuracy: 0.9629\n",
            "Epoch 52/100\n",
            "375/375 [==============================] - 2s 5ms/step - loss: 0.2813 - accuracy: 0.9156 - val_loss: 0.1563 - val_accuracy: 0.9610\n",
            "Epoch 53/100\n",
            "375/375 [==============================] - 2s 5ms/step - loss: 0.2827 - accuracy: 0.9129 - val_loss: 0.1518 - val_accuracy: 0.9639\n",
            "Epoch 54/100\n",
            "375/375 [==============================] - 2s 4ms/step - loss: 0.2775 - accuracy: 0.9148 - val_loss: 0.1520 - val_accuracy: 0.9616\n",
            "Epoch 55/100\n",
            "375/375 [==============================] - 2s 4ms/step - loss: 0.2822 - accuracy: 0.9155 - val_loss: 0.1581 - val_accuracy: 0.9593\n",
            "Epoch 56/100\n",
            "375/375 [==============================] - 2s 4ms/step - loss: 0.2781 - accuracy: 0.9160 - val_loss: 0.1541 - val_accuracy: 0.9622\n",
            "Epoch 57/100\n",
            "375/375 [==============================] - 2s 5ms/step - loss: 0.2801 - accuracy: 0.9156 - val_loss: 0.1550 - val_accuracy: 0.9618\n",
            "Epoch 58/100\n",
            "375/375 [==============================] - 2s 4ms/step - loss: 0.2726 - accuracy: 0.9177 - val_loss: 0.1519 - val_accuracy: 0.9628\n",
            "Epoch 59/100\n",
            "375/375 [==============================] - 2s 5ms/step - loss: 0.2723 - accuracy: 0.9172 - val_loss: 0.1509 - val_accuracy: 0.9630\n",
            "Epoch 60/100\n",
            "375/375 [==============================] - 2s 4ms/step - loss: 0.2779 - accuracy: 0.9162 - val_loss: 0.1560 - val_accuracy: 0.9613\n",
            "Epoch 61/100\n",
            "375/375 [==============================] - 2s 5ms/step - loss: 0.2722 - accuracy: 0.9170 - val_loss: 0.1523 - val_accuracy: 0.9635\n",
            "Epoch 62/100\n",
            "375/375 [==============================] - 2s 5ms/step - loss: 0.2746 - accuracy: 0.9169 - val_loss: 0.1601 - val_accuracy: 0.9617\n",
            "Epoch 63/100\n",
            "375/375 [==============================] - 2s 5ms/step - loss: 0.2682 - accuracy: 0.9187 - val_loss: 0.1591 - val_accuracy: 0.9629\n",
            "Epoch 64/100\n",
            "375/375 [==============================] - 2s 5ms/step - loss: 0.2742 - accuracy: 0.9162 - val_loss: 0.1551 - val_accuracy: 0.9639\n",
            "Epoch 65/100\n",
            "375/375 [==============================] - 2s 5ms/step - loss: 0.2674 - accuracy: 0.9192 - val_loss: 0.1657 - val_accuracy: 0.9615\n",
            "Epoch 66/100\n",
            "375/375 [==============================] - 2s 5ms/step - loss: 0.2716 - accuracy: 0.9186 - val_loss: 0.1555 - val_accuracy: 0.9634\n",
            "Epoch 67/100\n",
            "375/375 [==============================] - 2s 5ms/step - loss: 0.2725 - accuracy: 0.9180 - val_loss: 0.1608 - val_accuracy: 0.9624\n",
            "Epoch 68/100\n",
            "375/375 [==============================] - 2s 5ms/step - loss: 0.2711 - accuracy: 0.9173 - val_loss: 0.1590 - val_accuracy: 0.9616\n",
            "Epoch 69/100\n",
            "375/375 [==============================] - 2s 5ms/step - loss: 0.2713 - accuracy: 0.9176 - val_loss: 0.1568 - val_accuracy: 0.9628\n",
            "Epoch 70/100\n",
            "375/375 [==============================] - 2s 5ms/step - loss: 0.2653 - accuracy: 0.9191 - val_loss: 0.1574 - val_accuracy: 0.9620\n",
            "Epoch 71/100\n",
            "375/375 [==============================] - 2s 5ms/step - loss: 0.2708 - accuracy: 0.9168 - val_loss: 0.1585 - val_accuracy: 0.9624\n",
            "Epoch 72/100\n",
            "375/375 [==============================] - 2s 5ms/step - loss: 0.2640 - accuracy: 0.9190 - val_loss: 0.1627 - val_accuracy: 0.9618\n",
            "Epoch 73/100\n",
            "375/375 [==============================] - 2s 5ms/step - loss: 0.2661 - accuracy: 0.9186 - val_loss: 0.1599 - val_accuracy: 0.9632\n",
            "Epoch 74/100\n",
            "375/375 [==============================] - 2s 5ms/step - loss: 0.2622 - accuracy: 0.9179 - val_loss: 0.1661 - val_accuracy: 0.9613\n",
            "Epoch 75/100\n",
            "375/375 [==============================] - 2s 5ms/step - loss: 0.2634 - accuracy: 0.9183 - val_loss: 0.1605 - val_accuracy: 0.9606\n",
            "Epoch 76/100\n",
            "375/375 [==============================] - 2s 5ms/step - loss: 0.2653 - accuracy: 0.9192 - val_loss: 0.1714 - val_accuracy: 0.9606\n",
            "Epoch 77/100\n",
            "375/375 [==============================] - 2s 5ms/step - loss: 0.2664 - accuracy: 0.9180 - val_loss: 0.1620 - val_accuracy: 0.9628\n",
            "Epoch 78/100\n",
            "375/375 [==============================] - 2s 4ms/step - loss: 0.2646 - accuracy: 0.9190 - val_loss: 0.1579 - val_accuracy: 0.9622\n",
            "Epoch 79/100\n",
            "375/375 [==============================] - 2s 5ms/step - loss: 0.2588 - accuracy: 0.9195 - val_loss: 0.1639 - val_accuracy: 0.9620\n",
            "Epoch 80/100\n",
            "375/375 [==============================] - 2s 5ms/step - loss: 0.2612 - accuracy: 0.9208 - val_loss: 0.1591 - val_accuracy: 0.9617\n",
            "Epoch 81/100\n",
            "375/375 [==============================] - 2s 5ms/step - loss: 0.2599 - accuracy: 0.9210 - val_loss: 0.1634 - val_accuracy: 0.9627\n",
            "Epoch 82/100\n",
            "375/375 [==============================] - 2s 5ms/step - loss: 0.2569 - accuracy: 0.9206 - val_loss: 0.1614 - val_accuracy: 0.9627\n",
            "Epoch 83/100\n",
            "375/375 [==============================] - 2s 5ms/step - loss: 0.2648 - accuracy: 0.9188 - val_loss: 0.1648 - val_accuracy: 0.9612\n",
            "Epoch 84/100\n",
            "375/375 [==============================] - 2s 4ms/step - loss: 0.2637 - accuracy: 0.9169 - val_loss: 0.1573 - val_accuracy: 0.9634\n",
            "Epoch 85/100\n",
            "375/375 [==============================] - 2s 4ms/step - loss: 0.2570 - accuracy: 0.9203 - val_loss: 0.1674 - val_accuracy: 0.9607\n",
            "Epoch 86/100\n",
            "375/375 [==============================] - 2s 5ms/step - loss: 0.2551 - accuracy: 0.9207 - val_loss: 0.1665 - val_accuracy: 0.9621\n",
            "Epoch 87/100\n",
            "375/375 [==============================] - 2s 4ms/step - loss: 0.2555 - accuracy: 0.9210 - val_loss: 0.1638 - val_accuracy: 0.9619\n",
            "Epoch 88/100\n",
            "375/375 [==============================] - 2s 5ms/step - loss: 0.2588 - accuracy: 0.9202 - val_loss: 0.1648 - val_accuracy: 0.9628\n",
            "Epoch 89/100\n",
            "375/375 [==============================] - 2s 5ms/step - loss: 0.2565 - accuracy: 0.9216 - val_loss: 0.1680 - val_accuracy: 0.9607\n",
            "Epoch 90/100\n",
            "375/375 [==============================] - 2s 5ms/step - loss: 0.2570 - accuracy: 0.9220 - val_loss: 0.1691 - val_accuracy: 0.9621\n",
            "Epoch 91/100\n",
            "375/375 [==============================] - 2s 5ms/step - loss: 0.2550 - accuracy: 0.9200 - val_loss: 0.1701 - val_accuracy: 0.9613\n",
            "Epoch 92/100\n",
            "375/375 [==============================] - 2s 4ms/step - loss: 0.2564 - accuracy: 0.9207 - val_loss: 0.1644 - val_accuracy: 0.9619\n",
            "Epoch 93/100\n",
            "375/375 [==============================] - 2s 5ms/step - loss: 0.2538 - accuracy: 0.9215 - val_loss: 0.1671 - val_accuracy: 0.9613\n",
            "Epoch 94/100\n",
            "375/375 [==============================] - 2s 5ms/step - loss: 0.2568 - accuracy: 0.9203 - val_loss: 0.1706 - val_accuracy: 0.9615\n",
            "Epoch 95/100\n",
            "375/375 [==============================] - 2s 5ms/step - loss: 0.2550 - accuracy: 0.9225 - val_loss: 0.1735 - val_accuracy: 0.9620\n",
            "Epoch 96/100\n",
            "375/375 [==============================] - 2s 5ms/step - loss: 0.2558 - accuracy: 0.9210 - val_loss: 0.1653 - val_accuracy: 0.9627\n",
            "Epoch 97/100\n",
            "375/375 [==============================] - 2s 4ms/step - loss: 0.2521 - accuracy: 0.9211 - val_loss: 0.1653 - val_accuracy: 0.9625\n",
            "Epoch 98/100\n",
            "375/375 [==============================] - 2s 5ms/step - loss: 0.2542 - accuracy: 0.9204 - val_loss: 0.1638 - val_accuracy: 0.9624\n",
            "Epoch 99/100\n",
            "375/375 [==============================] - 2s 4ms/step - loss: 0.2526 - accuracy: 0.9219 - val_loss: 0.1691 - val_accuracy: 0.9622\n",
            "Epoch 100/100\n",
            "375/375 [==============================] - 2s 4ms/step - loss: 0.2512 - accuracy: 0.9213 - val_loss: 0.1639 - val_accuracy: 0.9635\n",
            "79/79 [==============================] - 0s 4ms/step - loss: 0.1814 - accuracy: 0.9595\n",
            "CPU times: user 3min 4s, sys: 27.3 s, total: 3min 31s\n",
            "Wall time: 3min 23s\n"
          ]
        }
      ]
    },
    {
      "cell_type": "code",
      "source": [
        "print(\"\\nTest loss:\", score[0])\n",
        "print(\"\\nTest accuracy:\", score[1])"
      ],
      "metadata": {
        "colab": {
          "base_uri": "https://localhost:8080/"
        },
        "id": "uN1aBlyi52u4",
        "outputId": "ece2fab9-71b6-4044-8fd2-e943a6ea3220"
      },
      "execution_count": null,
      "outputs": [
        {
          "output_type": "stream",
          "name": "stdout",
          "text": [
            "\n",
            "Test loss: 0.18143685162067413\n",
            "\n",
            "Test accuracy: 0.9595000147819519\n"
          ]
        }
      ]
    },
    {
      "cell_type": "markdown",
      "source": [
        "## CNNをclass化"
      ],
      "metadata": {
        "id": "ox3OzSG99UxA"
      }
    },
    {
      "cell_type": "code",
      "source": [
        "class my_CNN:\n",
        "    def __init__(self):\n",
        "        self.Epoch = 100\n",
        "        self.Batch_size = 128\n",
        "        self.Verbose = 1\n",
        "        self.optimize = \"Adam\"\n",
        "        self.Validation_split = 0.2                  \n",
        "\n",
        "        self.filters_1 = 32\n",
        "        self.filters_2 = 64\n",
        "        self.hidden_units = 128\n",
        "        self.output_units = 10\n",
        "        \n",
        "        self.model = Sequential()\n",
        " \n",
        "    def make_net(self):\n",
        "        self.model.add(Conv2D(self.filters_1, kernel_size=(3, 3), activation='relu', input_shape=(28, 28, 1)))\n",
        "        self.model.add(Conv2D(self.filters_2, kernel_size=(3, 3), activation='relu'))\n",
        "        self.model.add(MaxPooling2D(pool_size=(2, 2)))\n",
        "        self.model.add(Dropout(0.25))\n",
        "        self.model.add(Flatten())\n",
        "        self.model.add(Dense(self.hidden_units, activation='relu'))\n",
        "        self.model.add(Dropout(0.5))\n",
        "        self.model.add(Dense(self.output_units, activation='softmax'))\n",
        " \n",
        "    def model_compile(self):\n",
        "        self.model.compile(loss=\"categorical_crossentropy\",         \n",
        "                           optimizer=self.optimize,         \n",
        "                           metrics=[\"accuracy\"])\n",
        " \n",
        "    def make_model(self):\n",
        "        self.make_net()\n",
        "        self.model_compile()\n",
        " \n",
        "    def train(self, x, y):\n",
        "        self.model.fit(x, y, batch_size=self.Batch_size,\n",
        "                       epochs=self.Epoch,\n",
        "                       verbose=self.Verbose,\n",
        "                       validation_split=self.Validation_split)\n",
        " \n",
        "    def score(self, x, y):\n",
        "        return self.model.evaluate(x, y, verbose=self.Verbose, batch_size=self.Batch_size)"
      ],
      "metadata": {
        "id": "Ay51jU2I8KUx"
      },
      "execution_count": null,
      "outputs": []
    },
    {
      "cell_type": "code",
      "source": [
        "%%time\n",
        "\n",
        "my_cnn = my_CNN()\n",
        " \n",
        "my_cnn.make_model()\n",
        " \n",
        "my_cnn.train(x_train, y_train)\n",
        "    \n",
        "score = my_cnn.score(x_test, y_test)"
      ],
      "metadata": {
        "colab": {
          "base_uri": "https://localhost:8080/"
        },
        "id": "PFkFFG59ANGu",
        "outputId": "b920c000-03c7-4698-9f0f-3e78278b89f7"
      },
      "execution_count": null,
      "outputs": [
        {
          "output_type": "stream",
          "name": "stdout",
          "text": [
            "Epoch 1/100\n",
            "375/375 [==============================] - 16s 22ms/step - loss: 0.2799 - accuracy: 0.9145 - val_loss: 0.0692 - val_accuracy: 0.9808\n",
            "Epoch 2/100\n",
            "375/375 [==============================] - 8s 21ms/step - loss: 0.0992 - accuracy: 0.9706 - val_loss: 0.0535 - val_accuracy: 0.9855\n",
            "Epoch 3/100\n",
            "375/375 [==============================] - 9s 23ms/step - loss: 0.0751 - accuracy: 0.9776 - val_loss: 0.0448 - val_accuracy: 0.9878\n",
            "Epoch 4/100\n",
            "375/375 [==============================] - 9s 23ms/step - loss: 0.0590 - accuracy: 0.9822 - val_loss: 0.0388 - val_accuracy: 0.9887\n",
            "Epoch 5/100\n",
            "375/375 [==============================] - 8s 21ms/step - loss: 0.0527 - accuracy: 0.9839 - val_loss: 0.0401 - val_accuracy: 0.9893\n",
            "Epoch 6/100\n",
            "375/375 [==============================] - 9s 23ms/step - loss: 0.0444 - accuracy: 0.9859 - val_loss: 0.0375 - val_accuracy: 0.9905\n",
            "Epoch 7/100\n",
            "375/375 [==============================] - 8s 21ms/step - loss: 0.0393 - accuracy: 0.9875 - val_loss: 0.0360 - val_accuracy: 0.9896\n",
            "Epoch 8/100\n",
            "375/375 [==============================] - 9s 23ms/step - loss: 0.0371 - accuracy: 0.9883 - val_loss: 0.0410 - val_accuracy: 0.9889\n",
            "Epoch 9/100\n",
            "375/375 [==============================] - 8s 21ms/step - loss: 0.0319 - accuracy: 0.9893 - val_loss: 0.0381 - val_accuracy: 0.9908\n",
            "Epoch 10/100\n",
            "375/375 [==============================] - 8s 21ms/step - loss: 0.0304 - accuracy: 0.9903 - val_loss: 0.0384 - val_accuracy: 0.9902\n",
            "Epoch 11/100\n",
            "375/375 [==============================] - 8s 21ms/step - loss: 0.0269 - accuracy: 0.9908 - val_loss: 0.0378 - val_accuracy: 0.9907\n",
            "Epoch 12/100\n",
            "375/375 [==============================] - 9s 23ms/step - loss: 0.0263 - accuracy: 0.9910 - val_loss: 0.0359 - val_accuracy: 0.9908\n",
            "Epoch 13/100\n",
            "375/375 [==============================] - 9s 23ms/step - loss: 0.0240 - accuracy: 0.9917 - val_loss: 0.0369 - val_accuracy: 0.9902\n",
            "Epoch 14/100\n",
            "375/375 [==============================] - 9s 23ms/step - loss: 0.0222 - accuracy: 0.9920 - val_loss: 0.0417 - val_accuracy: 0.9907\n",
            "Epoch 15/100\n",
            "375/375 [==============================] - 8s 21ms/step - loss: 0.0187 - accuracy: 0.9937 - val_loss: 0.0438 - val_accuracy: 0.9914\n",
            "Epoch 16/100\n",
            "375/375 [==============================] - 8s 21ms/step - loss: 0.0209 - accuracy: 0.9926 - val_loss: 0.0413 - val_accuracy: 0.9906\n",
            "Epoch 17/100\n",
            "375/375 [==============================] - 9s 23ms/step - loss: 0.0181 - accuracy: 0.9935 - val_loss: 0.0392 - val_accuracy: 0.9914\n",
            "Epoch 18/100\n",
            "375/375 [==============================] - 9s 23ms/step - loss: 0.0189 - accuracy: 0.9939 - val_loss: 0.0384 - val_accuracy: 0.9922\n",
            "Epoch 19/100\n",
            "375/375 [==============================] - 9s 23ms/step - loss: 0.0155 - accuracy: 0.9945 - val_loss: 0.0408 - val_accuracy: 0.9911\n",
            "Epoch 20/100\n",
            "375/375 [==============================] - 9s 23ms/step - loss: 0.0147 - accuracy: 0.9952 - val_loss: 0.0411 - val_accuracy: 0.9912\n",
            "Epoch 21/100\n",
            "375/375 [==============================] - 8s 21ms/step - loss: 0.0145 - accuracy: 0.9950 - val_loss: 0.0419 - val_accuracy: 0.9913\n",
            "Epoch 22/100\n",
            "375/375 [==============================] - 8s 21ms/step - loss: 0.0159 - accuracy: 0.9946 - val_loss: 0.0445 - val_accuracy: 0.9907\n",
            "Epoch 23/100\n",
            "375/375 [==============================] - 9s 23ms/step - loss: 0.0124 - accuracy: 0.9959 - val_loss: 0.0410 - val_accuracy: 0.9916\n",
            "Epoch 24/100\n",
            "375/375 [==============================] - 8s 22ms/step - loss: 0.0127 - accuracy: 0.9956 - val_loss: 0.0418 - val_accuracy: 0.9912\n",
            "Epoch 25/100\n",
            "375/375 [==============================] - 8s 21ms/step - loss: 0.0135 - accuracy: 0.9956 - val_loss: 0.0414 - val_accuracy: 0.9918\n",
            "Epoch 26/100\n",
            "375/375 [==============================] - 8s 21ms/step - loss: 0.0146 - accuracy: 0.9951 - val_loss: 0.0386 - val_accuracy: 0.9919\n",
            "Epoch 27/100\n",
            "375/375 [==============================] - 9s 23ms/step - loss: 0.0110 - accuracy: 0.9961 - val_loss: 0.0407 - val_accuracy: 0.9923\n",
            "Epoch 28/100\n",
            "375/375 [==============================] - 9s 23ms/step - loss: 0.0131 - accuracy: 0.9958 - val_loss: 0.0450 - val_accuracy: 0.9915\n",
            "Epoch 29/100\n",
            "375/375 [==============================] - 9s 23ms/step - loss: 0.0108 - accuracy: 0.9962 - val_loss: 0.0479 - val_accuracy: 0.9916\n",
            "Epoch 30/100\n",
            "375/375 [==============================] - 8s 21ms/step - loss: 0.0138 - accuracy: 0.9954 - val_loss: 0.0417 - val_accuracy: 0.9919\n",
            "Epoch 31/100\n",
            "375/375 [==============================] - 9s 23ms/step - loss: 0.0089 - accuracy: 0.9970 - val_loss: 0.0489 - val_accuracy: 0.9917\n",
            "Epoch 32/100\n",
            "375/375 [==============================] - 8s 21ms/step - loss: 0.0109 - accuracy: 0.9963 - val_loss: 0.0489 - val_accuracy: 0.9917\n",
            "Epoch 33/100\n",
            "375/375 [==============================] - 8s 21ms/step - loss: 0.0110 - accuracy: 0.9962 - val_loss: 0.0482 - val_accuracy: 0.9917\n",
            "Epoch 34/100\n",
            "375/375 [==============================] - 8s 21ms/step - loss: 0.0091 - accuracy: 0.9970 - val_loss: 0.0425 - val_accuracy: 0.9927\n",
            "Epoch 35/100\n",
            "375/375 [==============================] - 9s 23ms/step - loss: 0.0103 - accuracy: 0.9965 - val_loss: 0.0442 - val_accuracy: 0.9918\n",
            "Epoch 36/100\n",
            "375/375 [==============================] - 8s 21ms/step - loss: 0.0088 - accuracy: 0.9970 - val_loss: 0.0456 - val_accuracy: 0.9919\n",
            "Epoch 37/100\n",
            "375/375 [==============================] - 8s 21ms/step - loss: 0.0102 - accuracy: 0.9964 - val_loss: 0.0472 - val_accuracy: 0.9923\n",
            "Epoch 38/100\n",
            "375/375 [==============================] - 8s 21ms/step - loss: 0.0083 - accuracy: 0.9974 - val_loss: 0.0431 - val_accuracy: 0.9932\n",
            "Epoch 39/100\n",
            "375/375 [==============================] - 9s 23ms/step - loss: 0.0082 - accuracy: 0.9974 - val_loss: 0.0458 - val_accuracy: 0.9918\n",
            "Epoch 40/100\n",
            "375/375 [==============================] - 8s 21ms/step - loss: 0.0101 - accuracy: 0.9966 - val_loss: 0.0449 - val_accuracy: 0.9922\n",
            "Epoch 41/100\n",
            "375/375 [==============================] - 8s 21ms/step - loss: 0.0084 - accuracy: 0.9972 - val_loss: 0.0443 - val_accuracy: 0.9921\n",
            "Epoch 42/100\n",
            "375/375 [==============================] - 8s 21ms/step - loss: 0.0080 - accuracy: 0.9974 - val_loss: 0.0457 - val_accuracy: 0.9929\n",
            "Epoch 43/100\n",
            "375/375 [==============================] - 9s 23ms/step - loss: 0.0104 - accuracy: 0.9967 - val_loss: 0.0459 - val_accuracy: 0.9925\n",
            "Epoch 44/100\n",
            "375/375 [==============================] - 8s 21ms/step - loss: 0.0076 - accuracy: 0.9974 - val_loss: 0.0480 - val_accuracy: 0.9920\n",
            "Epoch 45/100\n",
            "375/375 [==============================] - 9s 23ms/step - loss: 0.0086 - accuracy: 0.9971 - val_loss: 0.0501 - val_accuracy: 0.9920\n",
            "Epoch 46/100\n",
            "375/375 [==============================] - 9s 23ms/step - loss: 0.0074 - accuracy: 0.9974 - val_loss: 0.0500 - val_accuracy: 0.9923\n",
            "Epoch 47/100\n",
            "375/375 [==============================] - 9s 23ms/step - loss: 0.0074 - accuracy: 0.9975 - val_loss: 0.0522 - val_accuracy: 0.9918\n",
            "Epoch 48/100\n",
            "375/375 [==============================] - 8s 21ms/step - loss: 0.0085 - accuracy: 0.9971 - val_loss: 0.0518 - val_accuracy: 0.9922\n",
            "Epoch 49/100\n",
            "375/375 [==============================] - 9s 23ms/step - loss: 0.0081 - accuracy: 0.9972 - val_loss: 0.0491 - val_accuracy: 0.9918\n",
            "Epoch 50/100\n",
            "375/375 [==============================] - 8s 21ms/step - loss: 0.0077 - accuracy: 0.9973 - val_loss: 0.0563 - val_accuracy: 0.9911\n",
            "Epoch 51/100\n",
            "375/375 [==============================] - 8s 21ms/step - loss: 0.0067 - accuracy: 0.9978 - val_loss: 0.0502 - val_accuracy: 0.9927\n",
            "Epoch 52/100\n",
            "375/375 [==============================] - 9s 23ms/step - loss: 0.0056 - accuracy: 0.9981 - val_loss: 0.0590 - val_accuracy: 0.9913\n",
            "Epoch 53/100\n",
            "375/375 [==============================] - 8s 21ms/step - loss: 0.0082 - accuracy: 0.9971 - val_loss: 0.0497 - val_accuracy: 0.9922\n",
            "Epoch 54/100\n",
            "375/375 [==============================] - 8s 21ms/step - loss: 0.0082 - accuracy: 0.9972 - val_loss: 0.0461 - val_accuracy: 0.9924\n",
            "Epoch 55/100\n",
            "375/375 [==============================] - 9s 23ms/step - loss: 0.0053 - accuracy: 0.9980 - val_loss: 0.0551 - val_accuracy: 0.9927\n",
            "Epoch 56/100\n",
            "375/375 [==============================] - 9s 23ms/step - loss: 0.0060 - accuracy: 0.9980 - val_loss: 0.0476 - val_accuracy: 0.9921\n",
            "Epoch 57/100\n",
            "375/375 [==============================] - 8s 21ms/step - loss: 0.0072 - accuracy: 0.9977 - val_loss: 0.0475 - val_accuracy: 0.9929\n",
            "Epoch 58/100\n",
            "375/375 [==============================] - 8s 21ms/step - loss: 0.0069 - accuracy: 0.9980 - val_loss: 0.0538 - val_accuracy: 0.9918\n",
            "Epoch 59/100\n",
            "375/375 [==============================] - 8s 22ms/step - loss: 0.0077 - accuracy: 0.9976 - val_loss: 0.0474 - val_accuracy: 0.9920\n",
            "Epoch 60/100\n",
            "375/375 [==============================] - 8s 21ms/step - loss: 0.0068 - accuracy: 0.9975 - val_loss: 0.0488 - val_accuracy: 0.9930\n",
            "Epoch 61/100\n",
            "375/375 [==============================] - 8s 21ms/step - loss: 0.0057 - accuracy: 0.9980 - val_loss: 0.0550 - val_accuracy: 0.9918\n",
            "Epoch 62/100\n",
            "375/375 [==============================] - 8s 21ms/step - loss: 0.0069 - accuracy: 0.9978 - val_loss: 0.0525 - val_accuracy: 0.9928\n",
            "Epoch 63/100\n",
            "375/375 [==============================] - 9s 23ms/step - loss: 0.0077 - accuracy: 0.9977 - val_loss: 0.0542 - val_accuracy: 0.9921\n",
            "Epoch 64/100\n",
            "375/375 [==============================] - 8s 21ms/step - loss: 0.0057 - accuracy: 0.9980 - val_loss: 0.0558 - val_accuracy: 0.9927\n",
            "Epoch 65/100\n",
            "375/375 [==============================] - 8s 21ms/step - loss: 0.0053 - accuracy: 0.9980 - val_loss: 0.0565 - val_accuracy: 0.9923\n",
            "Epoch 66/100\n",
            "375/375 [==============================] - 8s 21ms/step - loss: 0.0059 - accuracy: 0.9980 - val_loss: 0.0524 - val_accuracy: 0.9930\n",
            "Epoch 67/100\n",
            "375/375 [==============================] - 9s 23ms/step - loss: 0.0065 - accuracy: 0.9978 - val_loss: 0.0540 - val_accuracy: 0.9923\n",
            "Epoch 68/100\n",
            "375/375 [==============================] - 9s 23ms/step - loss: 0.0066 - accuracy: 0.9980 - val_loss: 0.0570 - val_accuracy: 0.9920\n",
            "Epoch 69/100\n",
            "375/375 [==============================] - 9s 23ms/step - loss: 0.0053 - accuracy: 0.9983 - val_loss: 0.0566 - val_accuracy: 0.9925\n",
            "Epoch 70/100\n",
            "375/375 [==============================] - 8s 21ms/step - loss: 0.0049 - accuracy: 0.9983 - val_loss: 0.0540 - val_accuracy: 0.9924\n",
            "Epoch 71/100\n",
            "375/375 [==============================] - 8s 21ms/step - loss: 0.0043 - accuracy: 0.9984 - val_loss: 0.0614 - val_accuracy: 0.9918\n",
            "Epoch 72/100\n",
            "375/375 [==============================] - 8s 21ms/step - loss: 0.0071 - accuracy: 0.9976 - val_loss: 0.0557 - val_accuracy: 0.9919\n",
            "Epoch 73/100\n",
            "375/375 [==============================] - 8s 21ms/step - loss: 0.0058 - accuracy: 0.9980 - val_loss: 0.0521 - val_accuracy: 0.9926\n",
            "Epoch 74/100\n",
            "375/375 [==============================] - 8s 21ms/step - loss: 0.0047 - accuracy: 0.9984 - val_loss: 0.0567 - val_accuracy: 0.9918\n",
            "Epoch 75/100\n",
            "375/375 [==============================] - 9s 23ms/step - loss: 0.0041 - accuracy: 0.9985 - val_loss: 0.0607 - val_accuracy: 0.9923\n",
            "Epoch 76/100\n",
            "375/375 [==============================] - 8s 21ms/step - loss: 0.0061 - accuracy: 0.9980 - val_loss: 0.0578 - val_accuracy: 0.9922\n",
            "Epoch 77/100\n",
            "375/375 [==============================] - 9s 23ms/step - loss: 0.0052 - accuracy: 0.9982 - val_loss: 0.0651 - val_accuracy: 0.9924\n",
            "Epoch 78/100\n",
            "375/375 [==============================] - 9s 23ms/step - loss: 0.0066 - accuracy: 0.9981 - val_loss: 0.0560 - val_accuracy: 0.9924\n",
            "Epoch 79/100\n",
            "375/375 [==============================] - 8s 21ms/step - loss: 0.0061 - accuracy: 0.9978 - val_loss: 0.0556 - val_accuracy: 0.9923\n",
            "Epoch 80/100\n",
            "375/375 [==============================] - 9s 23ms/step - loss: 0.0072 - accuracy: 0.9978 - val_loss: 0.0591 - val_accuracy: 0.9921\n",
            "Epoch 81/100\n",
            "375/375 [==============================] - 8s 21ms/step - loss: 0.0050 - accuracy: 0.9984 - val_loss: 0.0604 - val_accuracy: 0.9917\n",
            "Epoch 82/100\n",
            "375/375 [==============================] - 9s 23ms/step - loss: 0.0054 - accuracy: 0.9983 - val_loss: 0.0545 - val_accuracy: 0.9924\n",
            "Epoch 83/100\n",
            "375/375 [==============================] - 8s 21ms/step - loss: 0.0052 - accuracy: 0.9984 - val_loss: 0.0604 - val_accuracy: 0.9920\n",
            "Epoch 84/100\n",
            "375/375 [==============================] - 9s 23ms/step - loss: 0.0057 - accuracy: 0.9981 - val_loss: 0.0646 - val_accuracy: 0.9922\n",
            "Epoch 85/100\n",
            "375/375 [==============================] - 9s 23ms/step - loss: 0.0052 - accuracy: 0.9984 - val_loss: 0.0579 - val_accuracy: 0.9922\n",
            "Epoch 86/100\n",
            "375/375 [==============================] - 9s 23ms/step - loss: 0.0057 - accuracy: 0.9981 - val_loss: 0.0523 - val_accuracy: 0.9920\n",
            "Epoch 87/100\n",
            "375/375 [==============================] - 9s 23ms/step - loss: 0.0043 - accuracy: 0.9986 - val_loss: 0.0602 - val_accuracy: 0.9930\n",
            "Epoch 88/100\n",
            "375/375 [==============================] - 9s 23ms/step - loss: 0.0048 - accuracy: 0.9984 - val_loss: 0.0568 - val_accuracy: 0.9922\n",
            "Epoch 89/100\n",
            "375/375 [==============================] - 8s 22ms/step - loss: 0.0046 - accuracy: 0.9985 - val_loss: 0.0595 - val_accuracy: 0.9923\n",
            "Epoch 90/100\n",
            "375/375 [==============================] - 9s 23ms/step - loss: 0.0062 - accuracy: 0.9981 - val_loss: 0.0525 - val_accuracy: 0.9927\n",
            "Epoch 91/100\n",
            "375/375 [==============================] - 9s 23ms/step - loss: 0.0052 - accuracy: 0.9982 - val_loss: 0.0499 - val_accuracy: 0.9931\n",
            "Epoch 92/100\n",
            "375/375 [==============================] - 9s 23ms/step - loss: 0.0050 - accuracy: 0.9984 - val_loss: 0.0527 - val_accuracy: 0.9935\n",
            "Epoch 93/100\n",
            "375/375 [==============================] - 9s 23ms/step - loss: 0.0049 - accuracy: 0.9985 - val_loss: 0.0505 - val_accuracy: 0.9927\n",
            "Epoch 94/100\n",
            "375/375 [==============================] - 8s 22ms/step - loss: 0.0044 - accuracy: 0.9987 - val_loss: 0.0497 - val_accuracy: 0.9930\n",
            "Epoch 95/100\n",
            "375/375 [==============================] - 8s 21ms/step - loss: 0.0039 - accuracy: 0.9985 - val_loss: 0.0666 - val_accuracy: 0.9920\n",
            "Epoch 96/100\n",
            "375/375 [==============================] - 8s 21ms/step - loss: 0.0050 - accuracy: 0.9985 - val_loss: 0.0583 - val_accuracy: 0.9924\n",
            "Epoch 97/100\n",
            "375/375 [==============================] - 9s 23ms/step - loss: 0.0050 - accuracy: 0.9984 - val_loss: 0.0624 - val_accuracy: 0.9920\n",
            "Epoch 98/100\n",
            "375/375 [==============================] - 9s 23ms/step - loss: 0.0057 - accuracy: 0.9980 - val_loss: 0.0515 - val_accuracy: 0.9928\n",
            "Epoch 99/100\n",
            "375/375 [==============================] - 9s 23ms/step - loss: 0.0047 - accuracy: 0.9983 - val_loss: 0.0591 - val_accuracy: 0.9925\n",
            "Epoch 100/100\n",
            "375/375 [==============================] - 8s 22ms/step - loss: 0.0046 - accuracy: 0.9983 - val_loss: 0.0620 - val_accuracy: 0.9935\n",
            "79/79 [==============================] - 1s 9ms/step - loss: 0.0419 - accuracy: 0.9940\n",
            "CPU times: user 12min 40s, sys: 39.5 s, total: 13min 19s\n",
            "Wall time: 13min 57s\n"
          ]
        }
      ]
    },
    {
      "cell_type": "code",
      "source": [
        "print(\"\\nTest loss:\", score[0])\n",
        "print(\"\\nTest accuracy:\", score[1])"
      ],
      "metadata": {
        "colab": {
          "base_uri": "https://localhost:8080/"
        },
        "id": "lEBAlus1AM8j",
        "outputId": "920db6f3-3263-4f9b-f0f8-4f166fcffa58"
      },
      "execution_count": null,
      "outputs": [
        {
          "output_type": "stream",
          "name": "stdout",
          "text": [
            "\n",
            "Test loss: 0.041883859783411026\n",
            "\n",
            "Test accuracy: 0.9940000176429749\n"
          ]
        }
      ]
    },
    {
      "cell_type": "code",
      "source": [
        ""
      ],
      "metadata": {
        "id": "Rsp4AJc-BVQ4"
      },
      "execution_count": null,
      "outputs": []
    }
  ]
}